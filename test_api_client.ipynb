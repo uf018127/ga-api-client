{
 "cells": [
  {
   "cell_type": "markdown",
   "metadata": {},
   "source": [
    "# Test Python Client"
   ]
  },
  {
   "cell_type": "code",
   "execution_count": 1,
   "metadata": {},
   "outputs": [],
   "source": [
    "from src.ga_api_package.ga_api_client import System, Repository, HyperLogLog, pprint\n",
    "import logging\n",
    "import pandas as pd\n",
    "logging.basicConfig(\n",
    "    format='▸ %(asctime)s %(levelname)s %(filename)s:%(funcName)s(%(lineno)d) - %(message)s',\n",
    "    datefmt='%Y-%m-%d %H:%M:%S',\n",
    "    # level=logging.INFO\n",
    ")"
   ]
  },
  {
   "cell_type": "markdown",
   "metadata": {},
   "source": [
    "## System"
   ]
  },
  {
   "cell_type": "code",
   "execution_count": 2,
   "metadata": {},
   "outputs": [],
   "source": [
    "system = System('https://rdlab-214.genie-analytics.com:8443/api', 'api', 'api123!@#')"
   ]
  },
  {
   "cell_type": "code",
   "execution_count": 3,
   "metadata": {},
   "outputs": [
    {
     "name": "stdout",
     "output_type": "stream",
     "text": [
      "{\n",
      "    \"config\":{\n",
      "        \"burst\":1,\n",
      "        \"retry\":1,\n",
      "        \"maxTasks\":65536\n",
      "    },\n",
      "    \"status\":{\n",
      "        \"created\":\"2022-02-17T10:18:06.714Z\",\n",
      "        \"modified\":\"2022-03-17T08:30:14.982Z\",\n",
      "        \"size\":637,\n",
      "        \"maxId\":36\n",
      "    }\n",
      "}"
     ]
    }
   ],
   "source": [
    "system_desc = await system.get_system()\n",
    "pprint(system_desc)"
   ]
  },
  {
   "cell_type": "code",
   "execution_count": 4,
   "metadata": {},
   "outputs": [
    {
     "name": "stdout",
     "output_type": "stream",
     "text": [
      "{\n",
      "    \"config\":{\n",
      "        \"burst\":1,\n",
      "        \"retry\":1,\n",
      "        \"maxTasks\":65536\n",
      "    },\n",
      "    \"status\":{\n",
      "        \"created\":\"2022-02-17T10:18:06.714Z\",\n",
      "        \"modified\":\"2022-03-17T08:33:57.144Z\",\n",
      "        \"size\":637,\n",
      "        \"maxId\":36\n",
      "    }\n",
      "}"
     ]
    }
   ],
   "source": [
    "system_conf = await system.set_system(system_desc['config'])\n",
    "pprint(system_conf)"
   ]
  },
  {
   "cell_type": "code",
   "execution_count": 5,
   "metadata": {},
   "outputs": [
    {
     "name": "stdout",
     "output_type": "stream",
     "text": [
      "[\n",
      "    {\n",
      "        \"_id\":0,\n",
      "        \"config\":{\n",
      "            \"limit\":10000000000\n",
      "        },\n",
      "        \"status\":{\n",
      "            \"created\":\"2022-03-14T17:46:28.860Z\",\n",
      "            \"modified\":\"2022-03-17T08:30:15.087Z\",\n",
      "            \"size\":0\n",
      "        }\n",
      "    }\n",
      "]"
     ]
    }
   ],
   "source": [
    "pprint(await system.get_all_tenants())"
   ]
  },
  {
   "cell_type": "code",
   "execution_count": 6,
   "metadata": {},
   "outputs": [
    {
     "name": "stdout",
     "output_type": "stream",
     "text": [
      "{\n",
      "    \"_id\":0,\n",
      "    \"config\":{\n",
      "        \"limit\":10000000000\n",
      "    },\n",
      "    \"status\":{\n",
      "        \"created\":\"2022-03-14T17:46:28.860Z\",\n",
      "        \"modified\":\"2022-03-17T08:30:15.087Z\",\n",
      "        \"size\":0\n",
      "    }\n",
      "}"
     ]
    }
   ],
   "source": [
    "tenant_desc = await system.create_tenant(0, {\n",
    "    \"limit\":10000000000\n",
    "})\n",
    "pprint(tenant_desc)"
   ]
  },
  {
   "cell_type": "code",
   "execution_count": 7,
   "metadata": {},
   "outputs": [
    {
     "name": "stdout",
     "output_type": "stream",
     "text": [
      "{\n",
      "    \"_id\":0,\n",
      "    \"config\":{\n",
      "        \"limit\":10000000000\n",
      "    },\n",
      "    \"status\":{\n",
      "        \"created\":\"2022-03-14T17:46:28.860Z\",\n",
      "        \"modified\":\"2022-03-17T08:33:57.322Z\",\n",
      "        \"size\":0\n",
      "    }\n",
      "}"
     ]
    }
   ],
   "source": [
    "tenant_conf = await system.update_tenant(0, tenant_desc['config'])\n",
    "pprint(tenant_conf)"
   ]
  },
  {
   "cell_type": "code",
   "execution_count": 8,
   "metadata": {},
   "outputs": [
    {
     "name": "stdout",
     "output_type": "stream",
     "text": [
      "{\n",
      "    \"_id\":0,\n",
      "    \"config\":{\n",
      "        \"limit\":10000000000\n",
      "    },\n",
      "    \"status\":{\n",
      "        \"created\":\"2022-03-14T17:46:28.860Z\",\n",
      "        \"modified\":\"2022-03-17T08:33:57.322Z\",\n",
      "        \"size\":0\n",
      "    }\n",
      "}"
     ]
    }
   ],
   "source": [
    "tenant_conf = await system.get_tenant(0)\n",
    "pprint(tenant_conf)"
   ]
  },
  {
   "cell_type": "code",
   "execution_count": 9,
   "metadata": {},
   "outputs": [],
   "source": [
    "# await system.delete_tenant(0)"
   ]
  },
  {
   "cell_type": "markdown",
   "metadata": {},
   "source": [
    "## Repository"
   ]
  },
  {
   "cell_type": "code",
   "execution_count": 10,
   "metadata": {},
   "outputs": [],
   "source": [
    "repo = Repository('https://rdlab-214.genie-analytics.com/api', 'api@default', 'api123!@#')"
   ]
  },
  {
   "cell_type": "markdown",
   "metadata": {},
   "source": [
    "## Using Dataset"
   ]
  },
  {
   "cell_type": "code",
   "execution_count": 11,
   "metadata": {},
   "outputs": [],
   "source": [
    "# delete all datasets to have a clean environment\n",
    "# await repo.del_all_datasets()"
   ]
  },
  {
   "cell_type": "code",
   "execution_count": 12,
   "metadata": {},
   "outputs": [],
   "source": [
    "dset_id = 13579\n",
    "dset_conf = {\n",
    "    'name':'example2',\n",
    "    'series':'hour',\n",
    "    'freq':300,\n",
    "    'retainDepth':86400*7,\n",
    "    'retainSize':10000000,\n",
    "    'run':False\n",
    "}\n",
    "# create dataset\n",
    "dset = await repo.set_dataset(dset_id, dset_conf)\n",
    "# update dataset\n",
    "dset = await repo.set_dataset(dset_id, dset_conf)\n",
    "# get dataset\n",
    "dset = await repo.get_dataset(dset_id)"
   ]
  },
  {
   "cell_type": "code",
   "execution_count": 13,
   "metadata": {},
   "outputs": [],
   "source": [
    "pipe_conf = {\n",
    "    'name':'example',\n",
    "    'pipeline': {\n",
    "        'scope': {\n",
    "            'i-field': '@controller.home',\n",
    "            'i-entry': [\n",
    "                [True,'t:0:0:1',0]\n",
    "            ],\n",
    "            'mode': '%directional'\n",
    "        },\n",
    "        'metric': [\n",
    "            ['$sum', {\n",
    "                'field':'@flow.bytes'\n",
    "            }]\n",
    "        ]\n",
    "    }\n",
    "}\n",
    "# create pipeline\n",
    "pipe = await dset.set_pipeline(1001, pipe_conf)\n",
    "# update pipeline\n",
    "pipe = await dset.set_pipeline(1001, pipe_conf)\n",
    "# get pipeline\n",
    "pipe = await dset.get_pipeline(1001)"
   ]
  },
  {
   "cell_type": "code",
   "execution_count": 14,
   "metadata": {},
   "outputs": [
    {
     "name": "stdout",
     "output_type": "stream",
     "text": [
      "                           1001\n",
      "timestamp                      \n",
      "2022-03-11 12:00:00+08:00     1\n",
      "2022-03-11 12:05:00+08:00     1\n",
      "2022-03-11 12:10:00+08:00     1\n",
      "2022-03-11 12:15:00+08:00     1\n",
      "2022-03-11 12:20:00+08:00     1\n",
      "2022-03-11 12:25:00+08:00     1\n",
      "2022-03-11 12:30:00+08:00     1\n",
      "2022-03-11 12:35:00+08:00     1\n",
      "2022-03-11 12:40:00+08:00     1\n",
      "2022-03-11 12:45:00+08:00     1\n",
      "2022-03-11 12:50:00+08:00     1\n",
      "2022-03-11 12:55:00+08:00     1\n",
      "2022-03-11 13:00:00+08:00     1\n"
     ]
    }
   ],
   "source": [
    "# patch dataset data\n",
    "dts = pd.date_range('2022-03-11 12:00:00+08:00', end='2022-03-11 13:00:00+08:00', freq='5T')\n",
    "print(await dset.patch_data(dts))"
   ]
  },
  {
   "cell_type": "code",
   "execution_count": 15,
   "metadata": {},
   "outputs": [
    {
     "name": "stdout",
     "output_type": "stream",
     "text": [
      "                           1001\n",
      "timestamp                      \n",
      "2022-03-11 12:00:00+08:00     1\n",
      "2022-03-11 12:05:00+08:00     1\n",
      "2022-03-11 12:10:00+08:00     1\n",
      "2022-03-11 12:15:00+08:00     1\n",
      "2022-03-11 12:20:00+08:00     1\n",
      "2022-03-11 12:25:00+08:00     1\n",
      "2022-03-11 12:30:00+08:00     1\n",
      "2022-03-11 12:35:00+08:00     1\n",
      "2022-03-11 12:40:00+08:00     1\n",
      "2022-03-11 12:45:00+08:00     1\n",
      "2022-03-11 12:50:00+08:00     1\n",
      "2022-03-11 12:55:00+08:00     1\n",
      "2022-03-11 13:00:00+08:00     1\n"
     ]
    }
   ],
   "source": [
    "# poll dataset data\n",
    "print(await dset.poll_data(dts))"
   ]
  },
  {
   "cell_type": "code",
   "execution_count": 16,
   "metadata": {},
   "outputs": [
    {
     "name": "stdout",
     "output_type": "stream",
     "text": [
      "                          ts   forward   opposite\n",
      "0  2022-03-11 12:00:00+08:00  58809744  349717483\n",
      "1  2022-03-11 12:05:00+08:00  44572192  562492493\n",
      "2  2022-03-11 12:10:00+08:00  49195654  620673105\n",
      "3  2022-03-11 12:15:00+08:00  46527559  845228917\n",
      "4  2022-03-11 12:20:00+08:00  34982007  614685028\n",
      "5  2022-03-11 12:25:00+08:00  57100159  911658581\n",
      "6  2022-03-11 12:30:00+08:00  31518823  625671660\n",
      "7  2022-03-11 12:35:00+08:00  37538293  508386394\n",
      "8  2022-03-11 12:40:00+08:00  46701163  831596278\n",
      "9  2022-03-11 12:45:00+08:00  47010361  428794089\n",
      "10 2022-03-11 12:50:00+08:00  47534735  696814504\n",
      "11 2022-03-11 12:55:00+08:00  38657516  474305205\n",
      "12 2022-03-11 13:00:00+08:00  43047044  689049150\n"
     ]
    }
   ],
   "source": [
    "# read dataset data\n",
    "df = await pipe.read_data(dts, columns=['ts','forward','opposite'])\n",
    "print(df)"
   ]
  },
  {
   "cell_type": "code",
   "execution_count": 17,
   "metadata": {},
   "outputs": [],
   "source": [
    "# delete pipeline\n",
    "await dset.del_pipeline(1001)"
   ]
  },
  {
   "cell_type": "code",
   "execution_count": 18,
   "metadata": {},
   "outputs": [],
   "source": [
    "# delete all pipelines\n",
    "await dset.del_all_pipelines()"
   ]
  },
  {
   "cell_type": "code",
   "execution_count": 19,
   "metadata": {},
   "outputs": [],
   "source": [
    "# delete dataset\n",
    "await repo.del_dataset(dset_id)"
   ]
  },
  {
   "cell_type": "code",
   "execution_count": 20,
   "metadata": {},
   "outputs": [],
   "source": [
    "# delete all datasets\n",
    "# await repo.del_all_datasets()"
   ]
  },
  {
   "cell_type": "markdown",
   "metadata": {},
   "source": [
    "### HyperLogLog"
   ]
  },
  {
   "cell_type": "code",
   "execution_count": 21,
   "metadata": {},
   "outputs": [
    {
     "name": "stdout",
     "output_type": "stream",
     "text": [
      "                          ts        forward       opposite\n",
      "0  2022-03-11 12:00:00+08:00  <HyperLogLog>  <HyperLogLog>\n",
      "1  2022-03-11 12:05:00+08:00  <HyperLogLog>  <HyperLogLog>\n",
      "2  2022-03-11 12:10:00+08:00  <HyperLogLog>  <HyperLogLog>\n",
      "3  2022-03-11 12:15:00+08:00  <HyperLogLog>  <HyperLogLog>\n",
      "4  2022-03-11 12:20:00+08:00  <HyperLogLog>  <HyperLogLog>\n",
      "5  2022-03-11 12:25:00+08:00  <HyperLogLog>  <HyperLogLog>\n",
      "6  2022-03-11 12:30:00+08:00  <HyperLogLog>  <HyperLogLog>\n",
      "7  2022-03-11 12:35:00+08:00  <HyperLogLog>  <HyperLogLog>\n",
      "8  2022-03-11 12:40:00+08:00  <HyperLogLog>  <HyperLogLog>\n",
      "9  2022-03-11 12:45:00+08:00  <HyperLogLog>  <HyperLogLog>\n",
      "10 2022-03-11 12:50:00+08:00  <HyperLogLog>  <HyperLogLog>\n",
      "11 2022-03-11 12:55:00+08:00  <HyperLogLog>  <HyperLogLog>\n",
      "12 2022-03-11 13:00:00+08:00  <HyperLogLog>  <HyperLogLog>\n"
     ]
    }
   ],
   "source": [
    "adhoc = await repo.set_adhoc(300, {\n",
    "    'scope': {\n",
    "        'i-field': '@controller.home',\n",
    "        'i-entry': [\n",
    "            [True,'t:0:0:1',0]\n",
    "        ],\n",
    "        'mode': '%directional'\n",
    "    },\n",
    "    'metric': [\n",
    "        ['$distinct', {\n",
    "            'fields':['@flow.addr.dst']\n",
    "        }]\n",
    "    ]\n",
    "})\n",
    "dts = pd.date_range('2022-03-11 12:00:00+08:00', end='2022-03-11 13:00:00+08:00', freq='5T')\n",
    "df = await adhoc.read_data(dts, 'hour', columns=['ts','forward','opposite'])\n",
    "print(df)"
   ]
  },
  {
   "cell_type": "code",
   "execution_count": 22,
   "metadata": {},
   "outputs": [
    {
     "data": {
      "text/plain": [
       "forward     <HyperLogLog>\n",
       "opposite    <HyperLogLog>\n",
       "dtype: object"
      ]
     },
     "execution_count": 22,
     "metadata": {},
     "output_type": "execute_result"
    }
   ],
   "source": [
    "df2 = df.set_index('ts').sum()\n",
    "df2"
   ]
  },
  {
   "cell_type": "code",
   "execution_count": 23,
   "metadata": {},
   "outputs": [
    {
     "data": {
      "text/plain": [
       "forward     1056\n",
       "opposite    1114\n",
       "dtype: int64"
      ]
     },
     "execution_count": 23,
     "metadata": {},
     "output_type": "execute_result"
    }
   ],
   "source": [
    "df2.apply(HyperLogLog.value)"
   ]
  },
  {
   "cell_type": "code",
   "execution_count": 24,
   "metadata": {},
   "outputs": [],
   "source": [
    "await repo.close()"
   ]
  },
  {
   "cell_type": "code",
   "execution_count": null,
   "metadata": {},
   "outputs": [],
   "source": []
  }
 ],
 "metadata": {
  "interpreter": {
   "hash": "15971131ed849772ea4efcd02d5d833e7c80be0ef6f70a201e7990bdbbb1bdad"
  },
  "kernelspec": {
   "display_name": "Python 3.9.9 64-bit ('python3.9': conda)",
   "language": "python",
   "name": "python3"
  },
  "language_info": {
   "codemirror_mode": {
    "name": "ipython",
    "version": 3
   },
   "file_extension": ".py",
   "mimetype": "text/x-python",
   "name": "python",
   "nbconvert_exporter": "python",
   "pygments_lexer": "ipython3",
   "version": "3.9.7"
  }
 },
 "nbformat": 4,
 "nbformat_minor": 2
}
