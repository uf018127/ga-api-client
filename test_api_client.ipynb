{
 "cells": [
  {
   "cell_type": "markdown",
   "metadata": {},
   "source": [
    "# Using Python Client"
   ]
  },
  {
   "cell_type": "code",
   "execution_count": 1,
   "metadata": {},
   "outputs": [],
   "source": [
    "from ga_api import System, Repository, HyperLogLog\n",
    "import pandas as pd\n",
    "import logging\n",
    "import asyncio\n",
    "logging.basicConfig(\n",
    "    format='▸ %(asctime)s %(levelname)s %(filename)s:%(funcName)s(%(lineno)d) - %(message)s',\n",
    "    datefmt='%Y-%m-%d %H:%M:%S',\n",
    "    # level=logging.INFO\n",
    ")"
   ]
  },
  {
   "cell_type": "code",
   "execution_count": 2,
   "metadata": {},
   "outputs": [],
   "source": [
    "# repo = Repository('https://rdlab-214.genie-analytics.com/api', 'api', 'default', 'api123!@#', burst=4)\n",
    "repo = Repository('https://192.168.11.222/api', 'api', 'default', 'api123!@#', ssl=False, burst=4)"
   ]
  },
  {
   "cell_type": "markdown",
   "metadata": {},
   "source": [
    "## Adhoc Query"
   ]
  },
  {
   "cell_type": "code",
   "execution_count": 3,
   "metadata": {},
   "outputs": [],
   "source": [
    "adhoc = await repo.set_adhoc(300, {\n",
    "    'scope': {\n",
    "        'i-field': '@controller.home',\n",
    "        'i-entry': [\n",
    "            [True,'t:0:0:1',0]\n",
    "        ],\n",
    "        'mode': '%directional'\n",
    "    },\n",
    "    'metric': [\n",
    "        ['$sum', {\n",
    "            'field':'@flow.bytes'\n",
    "        }]\n",
    "    ]\n",
    "})"
   ]
  },
  {
   "cell_type": "markdown",
   "metadata": {},
   "source": [
    "### Point Query"
   ]
  },
  {
   "cell_type": "code",
   "execution_count": 4,
   "metadata": {},
   "outputs": [
    {
     "name": "stdout",
     "output_type": "stream",
     "text": [
      "    forward    opposite\n",
      "0  49406924  1461267597\n"
     ]
    }
   ],
   "source": [
    "df_point = await adhoc.read_data('2022-03-11 10:00:00', 'hour', columns=['forward','opposite'])\n",
    "print(df_point)"
   ]
  },
  {
   "cell_type": "code",
   "execution_count": 5,
   "metadata": {},
   "outputs": [
    {
     "name": "stdout",
     "output_type": "stream",
     "text": [
      "    forward    opposite\n",
      "0  49406924  1461267597\n",
      "    forward    opposite\n",
      "0  49406924  1461267597\n"
     ]
    }
   ],
   "source": [
    "df_point_0800 = await adhoc.read_data('2022-03-11 10:00:00+0800', 'hour', columns=['forward','opposite'])\n",
    "df_point_0900 = await adhoc.read_data('2022-03-11 11:00:00+0900', 'hour', columns=['forward','opposite'])\n",
    "print(df_point_0800)\n",
    "print(df_point_0900)"
   ]
  },
  {
   "cell_type": "markdown",
   "metadata": {},
   "source": [
    "### Range Query"
   ]
  },
  {
   "cell_type": "code",
   "execution_count": 6,
   "metadata": {},
   "outputs": [
    {
     "name": "stdout",
     "output_type": "stream",
     "text": [
      "              timstamp    forward    opposite\n",
      "0  2022-03-11 10:00:00   49406924  1461267597\n",
      "1  2022-03-11 10:05:00   51059216   474717295\n",
      "2  2022-03-11 10:10:00   65980104   399852436\n",
      "3  2022-03-11 10:15:00  136451534   769131598\n",
      "4  2022-03-11 10:20:00  177329937   643387464\n",
      "5  2022-03-11 10:25:00  267064304   793054430\n",
      "6  2022-03-11 10:30:00  157039040   619663619\n",
      "7  2022-03-11 10:35:00  459774214   939979866\n",
      "8  2022-03-11 10:40:00  820108989   857197053\n",
      "9  2022-03-11 10:45:00  478451960   549668690\n",
      "10 2022-03-11 10:50:00   79747664   427091909\n",
      "11 2022-03-11 10:55:00   46992840   521694738\n"
     ]
    }
   ],
   "source": [
    "dts = pd.date_range(start='2022-03-11 10:00:00', end='2022-03-11 11:00:00', freq='5T', inclusive='left')\n",
    "df_range = await adhoc.read_data(dts, 'hour', columns=['timstamp','forward','opposite'])\n",
    "print(df_range)"
   ]
  },
  {
   "cell_type": "markdown",
   "metadata": {},
   "source": [
    "### Sample Query"
   ]
  },
  {
   "cell_type": "code",
   "execution_count": 7,
   "metadata": {},
   "outputs": [
    {
     "name": "stdout",
     "output_type": "stream",
     "text": [
      "              timstamp      forward      opposite\n",
      "0  2022-03-11 10:00:00   49406924.0  1.461268e+09\n",
      "1  2022-03-12 10:00:00   14763142.0  4.053517e+07\n",
      "2  2022-03-13 10:00:00   19757650.0  3.465118e+07\n",
      "3  2022-03-14 10:00:00   68562400.0  3.158328e+08\n",
      "4  2022-03-15 10:00:00   60450191.0  1.267742e+09\n",
      "5  2022-03-16 10:00:00   56088660.0  3.076066e+08\n",
      "6  2022-03-17 10:00:00  114197889.0  1.144716e+09\n",
      "7  2022-03-18 10:00:00   66442039.0  5.955546e+08\n",
      "8  2022-03-19 10:00:00   70044985.0  7.544690e+07\n",
      "9  2022-03-20 10:00:00          NaN           NaN\n",
      "10 2022-03-21 10:00:00   74811007.0  3.237817e+08\n",
      "11 2022-03-22 10:00:00  165016596.0  5.291642e+08\n",
      "12 2022-03-23 10:00:00          NaN           NaN\n",
      "13 2022-03-24 10:00:00          NaN           NaN\n",
      "14 2022-03-25 10:00:00          NaN           NaN\n",
      "15 2022-03-26 10:00:00          NaN           NaN\n",
      "16 2022-03-27 10:00:00          NaN           NaN\n"
     ]
    }
   ],
   "source": [
    "dts = pd.date_range(start='2022-03-11 10:00:00', end='2022-03-27 10:00:00', freq='D')\n",
    "df_range = await adhoc.read_data(dts, 'hour', columns=['timstamp','forward','opposite'])\n",
    "print(df_range)"
   ]
  },
  {
   "cell_type": "markdown",
   "metadata": {},
   "source": [
    "## Store Query"
   ]
  },
  {
   "cell_type": "code",
   "execution_count": 8,
   "metadata": {},
   "outputs": [],
   "source": [
    "dset_conf = {\n",
    "    'name':'example',\n",
    "    'series':'hour',\n",
    "    'freq':300,\n",
    "    'retainDepth':86400*7,\n",
    "    'retainSize':10000000,\n",
    "    'run':False\n",
    "}\n",
    "# delete the dataset\n",
    "await repo.del_dataset(100, missing_ok=True)\n",
    "# create the dataset\n",
    "dset = await repo.get_dataset(100, dset_conf)\n",
    "# get the dataset\n",
    "dset = await repo.get_dataset(100, dset_conf)\n",
    "# delete the dataset\n",
    "await repo.del_dataset(100, missing_ok=True)\n",
    "# create the dataset\n",
    "dset = await repo.set_dataset(100, dset_conf)\n",
    "# update the dataset\n",
    "dset = await repo.set_dataset(100, dset_conf)"
   ]
  },
  {
   "cell_type": "code",
   "execution_count": 9,
   "metadata": {},
   "outputs": [],
   "source": [
    "pipe_conf = {\n",
    "    'name':'example',\n",
    "    'pipeline': {\n",
    "        'scope': {\n",
    "            'i-field': '@controller.home',\n",
    "            'i-entry': [\n",
    "                [True,'t:0:0:1',0]\n",
    "            ],\n",
    "            'mode': '%directional'\n",
    "        },\n",
    "        'bucket': [\n",
    "            ['$distinctTuple', {\n",
    "                'fields':['@flow.protocol'],\n",
    "                'unwind':[False],\n",
    "                'sizeLimit':256,\n",
    "                'sortedBy':['$sum', {\n",
    "                    'field':'@flow.bytes'\n",
    "                }],\n",
    "                'sortedDir':1,\n",
    "                'nullOpt':False\n",
    "            }]\n",
    "        ],\n",
    "        'metric': [\n",
    "            ['$sum', {\n",
    "                'field':'@flow.bytes'\n",
    "            }]\n",
    "        ]\n",
    "    }\n",
    "}\n",
    "# delete the pipeline\n",
    "await dset.del_pipeline(1001, missing_ok=True)\n",
    "# create the pipeline\n",
    "pipe = await dset.get_pipeline(1001, pipe_conf)\n",
    "# get the pipeline\n",
    "pipe = await dset.get_pipeline(1001, pipe_conf)\n",
    "# delete the pipeline\n",
    "await dset.del_pipeline(1001, missing_ok=True)\n",
    "# create the pipeline\n",
    "pipe = await dset.set_pipeline(1001, pipe_conf)\n",
    "# updatge the pipeline\n",
    "pipe = await dset.set_pipeline(1001, pipe_conf)\n",
    "\n",
    "await asyncio.sleep(1)"
   ]
  },
  {
   "cell_type": "code",
   "execution_count": 10,
   "metadata": {},
   "outputs": [],
   "source": [
    "dts = pd.date_range(start='2022-03-09 12:00:00', end='2022-03-09 18:00:00', freq='5T', inclusive='left')\n",
    "# dts = pd.date_range(start='2022-03-04 00:00:00', end='2022-03-18 00:00:00', freq='5T', inclusive='left')"
   ]
  },
  {
   "cell_type": "code",
   "execution_count": 11,
   "metadata": {},
   "outputs": [],
   "source": [
    "df_patch = await dset.patch_data(dts)"
   ]
  },
  {
   "cell_type": "code",
   "execution_count": 12,
   "metadata": {},
   "outputs": [
    {
     "data": {
      "text/plain": [
       "1    72\n",
       "Name: 1001, dtype: int64"
      ]
     },
     "execution_count": 12,
     "metadata": {},
     "output_type": "execute_result"
    }
   ],
   "source": [
    "df_patch['1001'].value_counts(dropna=False)"
   ]
  },
  {
   "cell_type": "code",
   "execution_count": 13,
   "metadata": {},
   "outputs": [],
   "source": [
    "df_poll = await dset.poll_data(dts)"
   ]
  },
  {
   "cell_type": "code",
   "execution_count": 14,
   "metadata": {},
   "outputs": [
    {
     "data": {
      "text/plain": [
       "1    72\n",
       "Name: 1001, dtype: int64"
      ]
     },
     "execution_count": 14,
     "metadata": {},
     "output_type": "execute_result"
    }
   ],
   "source": [
    "df_poll['1001'].value_counts(dropna=False)"
   ]
  },
  {
   "cell_type": "code",
   "execution_count": 15,
   "metadata": {},
   "outputs": [],
   "source": [
    "df_data = await pipe.read_data(dts, columns=['timestamp','protocol','forward','opposite'])"
   ]
  },
  {
   "cell_type": "code",
   "execution_count": 16,
   "metadata": {},
   "outputs": [
    {
     "data": {
      "text/html": [
       "<div>\n",
       "<style scoped>\n",
       "    .dataframe tbody tr th:only-of-type {\n",
       "        vertical-align: middle;\n",
       "    }\n",
       "\n",
       "    .dataframe tbody tr th {\n",
       "        vertical-align: top;\n",
       "    }\n",
       "\n",
       "    .dataframe thead th {\n",
       "        text-align: right;\n",
       "    }\n",
       "</style>\n",
       "<table border=\"1\" class=\"dataframe\">\n",
       "  <thead>\n",
       "    <tr style=\"text-align: right;\">\n",
       "      <th></th>\n",
       "      <th>timestamp</th>\n",
       "      <th>protocol</th>\n",
       "      <th>forward</th>\n",
       "      <th>opposite</th>\n",
       "    </tr>\n",
       "  </thead>\n",
       "  <tbody>\n",
       "    <tr>\n",
       "      <th>134</th>\n",
       "      <td>2022-03-09 14:30:00</td>\n",
       "      <td>!all</td>\n",
       "      <td>NaN</td>\n",
       "      <td>NaN</td>\n",
       "    </tr>\n",
       "    <tr>\n",
       "      <th>135</th>\n",
       "      <td>2022-03-09 14:35:00</td>\n",
       "      <td>!all</td>\n",
       "      <td>NaN</td>\n",
       "      <td>NaN</td>\n",
       "    </tr>\n",
       "    <tr>\n",
       "      <th>136</th>\n",
       "      <td>2022-03-09 14:40:00</td>\n",
       "      <td>!all</td>\n",
       "      <td>NaN</td>\n",
       "      <td>NaN</td>\n",
       "    </tr>\n",
       "    <tr>\n",
       "      <th>137</th>\n",
       "      <td>2022-03-09 14:45:00</td>\n",
       "      <td>!all</td>\n",
       "      <td>NaN</td>\n",
       "      <td>NaN</td>\n",
       "    </tr>\n",
       "    <tr>\n",
       "      <th>138</th>\n",
       "      <td>2022-03-09 14:50:00</td>\n",
       "      <td>!all</td>\n",
       "      <td>NaN</td>\n",
       "      <td>NaN</td>\n",
       "    </tr>\n",
       "    <tr>\n",
       "      <th>139</th>\n",
       "      <td>2022-03-09 14:55:00</td>\n",
       "      <td>!all</td>\n",
       "      <td>NaN</td>\n",
       "      <td>NaN</td>\n",
       "    </tr>\n",
       "    <tr>\n",
       "      <th>140</th>\n",
       "      <td>2022-03-09 15:00:00</td>\n",
       "      <td>!all</td>\n",
       "      <td>NaN</td>\n",
       "      <td>NaN</td>\n",
       "    </tr>\n",
       "    <tr>\n",
       "      <th>141</th>\n",
       "      <td>2022-03-09 15:05:00</td>\n",
       "      <td>!all</td>\n",
       "      <td>NaN</td>\n",
       "      <td>NaN</td>\n",
       "    </tr>\n",
       "    <tr>\n",
       "      <th>142</th>\n",
       "      <td>2022-03-09 15:10:00</td>\n",
       "      <td>!all</td>\n",
       "      <td>NaN</td>\n",
       "      <td>NaN</td>\n",
       "    </tr>\n",
       "    <tr>\n",
       "      <th>143</th>\n",
       "      <td>2022-03-09 15:15:00</td>\n",
       "      <td>!all</td>\n",
       "      <td>NaN</td>\n",
       "      <td>NaN</td>\n",
       "    </tr>\n",
       "    <tr>\n",
       "      <th>144</th>\n",
       "      <td>2022-03-09 15:20:00</td>\n",
       "      <td>!all</td>\n",
       "      <td>NaN</td>\n",
       "      <td>NaN</td>\n",
       "    </tr>\n",
       "    <tr>\n",
       "      <th>145</th>\n",
       "      <td>2022-03-09 15:25:00</td>\n",
       "      <td>!all</td>\n",
       "      <td>NaN</td>\n",
       "      <td>NaN</td>\n",
       "    </tr>\n",
       "    <tr>\n",
       "      <th>146</th>\n",
       "      <td>2022-03-09 15:30:00</td>\n",
       "      <td>!all</td>\n",
       "      <td>NaN</td>\n",
       "      <td>NaN</td>\n",
       "    </tr>\n",
       "    <tr>\n",
       "      <th>147</th>\n",
       "      <td>2022-03-09 15:35:00</td>\n",
       "      <td>!all</td>\n",
       "      <td>NaN</td>\n",
       "      <td>NaN</td>\n",
       "    </tr>\n",
       "    <tr>\n",
       "      <th>148</th>\n",
       "      <td>2022-03-09 15:40:00</td>\n",
       "      <td>!all</td>\n",
       "      <td>NaN</td>\n",
       "      <td>NaN</td>\n",
       "    </tr>\n",
       "    <tr>\n",
       "      <th>149</th>\n",
       "      <td>2022-03-09 15:45:00</td>\n",
       "      <td>!all</td>\n",
       "      <td>NaN</td>\n",
       "      <td>NaN</td>\n",
       "    </tr>\n",
       "    <tr>\n",
       "      <th>150</th>\n",
       "      <td>2022-03-09 15:50:00</td>\n",
       "      <td>!all</td>\n",
       "      <td>NaN</td>\n",
       "      <td>NaN</td>\n",
       "    </tr>\n",
       "    <tr>\n",
       "      <th>151</th>\n",
       "      <td>2022-03-09 15:55:00</td>\n",
       "      <td>!all</td>\n",
       "      <td>NaN</td>\n",
       "      <td>NaN</td>\n",
       "    </tr>\n",
       "    <tr>\n",
       "      <th>152</th>\n",
       "      <td>2022-03-09 16:00:00</td>\n",
       "      <td>!all</td>\n",
       "      <td>NaN</td>\n",
       "      <td>NaN</td>\n",
       "    </tr>\n",
       "    <tr>\n",
       "      <th>153</th>\n",
       "      <td>2022-03-09 16:05:00</td>\n",
       "      <td>!all</td>\n",
       "      <td>NaN</td>\n",
       "      <td>NaN</td>\n",
       "    </tr>\n",
       "    <tr>\n",
       "      <th>154</th>\n",
       "      <td>2022-03-09 16:10:00</td>\n",
       "      <td>!all</td>\n",
       "      <td>NaN</td>\n",
       "      <td>NaN</td>\n",
       "    </tr>\n",
       "    <tr>\n",
       "      <th>155</th>\n",
       "      <td>2022-03-09 16:15:00</td>\n",
       "      <td>!all</td>\n",
       "      <td>NaN</td>\n",
       "      <td>NaN</td>\n",
       "    </tr>\n",
       "    <tr>\n",
       "      <th>156</th>\n",
       "      <td>2022-03-09 16:20:00</td>\n",
       "      <td>!all</td>\n",
       "      <td>NaN</td>\n",
       "      <td>NaN</td>\n",
       "    </tr>\n",
       "    <tr>\n",
       "      <th>157</th>\n",
       "      <td>2022-03-09 16:25:00</td>\n",
       "      <td>!all</td>\n",
       "      <td>NaN</td>\n",
       "      <td>NaN</td>\n",
       "    </tr>\n",
       "    <tr>\n",
       "      <th>158</th>\n",
       "      <td>2022-03-09 16:30:00</td>\n",
       "      <td>!all</td>\n",
       "      <td>NaN</td>\n",
       "      <td>NaN</td>\n",
       "    </tr>\n",
       "    <tr>\n",
       "      <th>159</th>\n",
       "      <td>2022-03-09 16:35:00</td>\n",
       "      <td>!all</td>\n",
       "      <td>NaN</td>\n",
       "      <td>NaN</td>\n",
       "    </tr>\n",
       "    <tr>\n",
       "      <th>160</th>\n",
       "      <td>2022-03-09 16:40:00</td>\n",
       "      <td>!all</td>\n",
       "      <td>NaN</td>\n",
       "      <td>NaN</td>\n",
       "    </tr>\n",
       "    <tr>\n",
       "      <th>161</th>\n",
       "      <td>2022-03-09 16:45:00</td>\n",
       "      <td>!all</td>\n",
       "      <td>NaN</td>\n",
       "      <td>NaN</td>\n",
       "    </tr>\n",
       "    <tr>\n",
       "      <th>162</th>\n",
       "      <td>2022-03-09 16:50:00</td>\n",
       "      <td>!all</td>\n",
       "      <td>NaN</td>\n",
       "      <td>NaN</td>\n",
       "    </tr>\n",
       "    <tr>\n",
       "      <th>163</th>\n",
       "      <td>2022-03-09 16:55:00</td>\n",
       "      <td>!all</td>\n",
       "      <td>NaN</td>\n",
       "      <td>NaN</td>\n",
       "    </tr>\n",
       "  </tbody>\n",
       "</table>\n",
       "</div>"
      ],
      "text/plain": [
       "              timestamp protocol  forward  opposite\n",
       "134 2022-03-09 14:30:00     !all      NaN       NaN\n",
       "135 2022-03-09 14:35:00     !all      NaN       NaN\n",
       "136 2022-03-09 14:40:00     !all      NaN       NaN\n",
       "137 2022-03-09 14:45:00     !all      NaN       NaN\n",
       "138 2022-03-09 14:50:00     !all      NaN       NaN\n",
       "139 2022-03-09 14:55:00     !all      NaN       NaN\n",
       "140 2022-03-09 15:00:00     !all      NaN       NaN\n",
       "141 2022-03-09 15:05:00     !all      NaN       NaN\n",
       "142 2022-03-09 15:10:00     !all      NaN       NaN\n",
       "143 2022-03-09 15:15:00     !all      NaN       NaN\n",
       "144 2022-03-09 15:20:00     !all      NaN       NaN\n",
       "145 2022-03-09 15:25:00     !all      NaN       NaN\n",
       "146 2022-03-09 15:30:00     !all      NaN       NaN\n",
       "147 2022-03-09 15:35:00     !all      NaN       NaN\n",
       "148 2022-03-09 15:40:00     !all      NaN       NaN\n",
       "149 2022-03-09 15:45:00     !all      NaN       NaN\n",
       "150 2022-03-09 15:50:00     !all      NaN       NaN\n",
       "151 2022-03-09 15:55:00     !all      NaN       NaN\n",
       "152 2022-03-09 16:00:00     !all      NaN       NaN\n",
       "153 2022-03-09 16:05:00     !all      NaN       NaN\n",
       "154 2022-03-09 16:10:00     !all      NaN       NaN\n",
       "155 2022-03-09 16:15:00     !all      NaN       NaN\n",
       "156 2022-03-09 16:20:00     !all      NaN       NaN\n",
       "157 2022-03-09 16:25:00     !all      NaN       NaN\n",
       "158 2022-03-09 16:30:00     !all      NaN       NaN\n",
       "159 2022-03-09 16:35:00     !all      NaN       NaN\n",
       "160 2022-03-09 16:40:00     !all      NaN       NaN\n",
       "161 2022-03-09 16:45:00     !all      NaN       NaN\n",
       "162 2022-03-09 16:50:00     !all      NaN       NaN\n",
       "163 2022-03-09 16:55:00     !all      NaN       NaN"
      ]
     },
     "execution_count": 16,
     "metadata": {},
     "output_type": "execute_result"
    }
   ],
   "source": [
    "# should be 30\n",
    "df_data[df_data.isna().any(axis=1)]"
   ]
  },
  {
   "cell_type": "code",
   "execution_count": 17,
   "metadata": {},
   "outputs": [
    {
     "data": {
      "text/html": [
       "<div>\n",
       "<style scoped>\n",
       "    .dataframe tbody tr th:only-of-type {\n",
       "        vertical-align: middle;\n",
       "    }\n",
       "\n",
       "    .dataframe tbody tr th {\n",
       "        vertical-align: top;\n",
       "    }\n",
       "\n",
       "    .dataframe thead th {\n",
       "        text-align: right;\n",
       "    }\n",
       "</style>\n",
       "<table border=\"1\" class=\"dataframe\">\n",
       "  <thead>\n",
       "    <tr style=\"text-align: right;\">\n",
       "      <th></th>\n",
       "      <th>timestamp</th>\n",
       "      <th>protocol</th>\n",
       "      <th>forward</th>\n",
       "      <th>opposite</th>\n",
       "    </tr>\n",
       "  </thead>\n",
       "  <tbody>\n",
       "    <tr>\n",
       "      <th>0</th>\n",
       "      <td>2022-03-09 12:00:00</td>\n",
       "      <td>!all</td>\n",
       "      <td>73327384.0</td>\n",
       "      <td>1.281103e+09</td>\n",
       "    </tr>\n",
       "    <tr>\n",
       "      <th>1</th>\n",
       "      <td>2022-03-09 12:00:00</td>\n",
       "      <td>6</td>\n",
       "      <td>56400693.0</td>\n",
       "      <td>1.139092e+09</td>\n",
       "    </tr>\n",
       "    <tr>\n",
       "      <th>2</th>\n",
       "      <td>2022-03-09 12:00:00</td>\n",
       "      <td>17</td>\n",
       "      <td>8017419.0</td>\n",
       "      <td>1.410606e+08</td>\n",
       "    </tr>\n",
       "    <tr>\n",
       "      <th>3</th>\n",
       "      <td>2022-03-09 12:00:00</td>\n",
       "      <td>1</td>\n",
       "      <td>4935120.0</td>\n",
       "      <td>1.751560e+05</td>\n",
       "    </tr>\n",
       "    <tr>\n",
       "      <th>4</th>\n",
       "      <td>2022-03-09 12:00:00</td>\n",
       "      <td>50</td>\n",
       "      <td>3974152.0</td>\n",
       "      <td>7.749200e+05</td>\n",
       "    </tr>\n",
       "    <tr>\n",
       "      <th>...</th>\n",
       "      <td>...</td>\n",
       "      <td>...</td>\n",
       "      <td>...</td>\n",
       "      <td>...</td>\n",
       "    </tr>\n",
       "    <tr>\n",
       "      <th>212</th>\n",
       "      <td>2022-03-09 17:55:00</td>\n",
       "      <td>!all</td>\n",
       "      <td>71612452.0</td>\n",
       "      <td>6.332233e+08</td>\n",
       "    </tr>\n",
       "    <tr>\n",
       "      <th>213</th>\n",
       "      <td>2022-03-09 17:55:00</td>\n",
       "      <td>6</td>\n",
       "      <td>38237044.0</td>\n",
       "      <td>5.335505e+08</td>\n",
       "    </tr>\n",
       "    <tr>\n",
       "      <th>214</th>\n",
       "      <td>2022-03-09 17:55:00</td>\n",
       "      <td>50</td>\n",
       "      <td>11737600.0</td>\n",
       "      <td>8.406992e+06</td>\n",
       "    </tr>\n",
       "    <tr>\n",
       "      <th>215</th>\n",
       "      <td>2022-03-09 17:55:00</td>\n",
       "      <td>17</td>\n",
       "      <td>11708783.0</td>\n",
       "      <td>9.106803e+07</td>\n",
       "    </tr>\n",
       "    <tr>\n",
       "      <th>216</th>\n",
       "      <td>2022-03-09 17:55:00</td>\n",
       "      <td>1</td>\n",
       "      <td>9929025.0</td>\n",
       "      <td>1.977920e+05</td>\n",
       "    </tr>\n",
       "  </tbody>\n",
       "</table>\n",
       "<p>217 rows × 4 columns</p>\n",
       "</div>"
      ],
      "text/plain": [
       "              timestamp protocol     forward      opposite\n",
       "0   2022-03-09 12:00:00     !all  73327384.0  1.281103e+09\n",
       "1   2022-03-09 12:00:00        6  56400693.0  1.139092e+09\n",
       "2   2022-03-09 12:00:00       17   8017419.0  1.410606e+08\n",
       "3   2022-03-09 12:00:00        1   4935120.0  1.751560e+05\n",
       "4   2022-03-09 12:00:00       50   3974152.0  7.749200e+05\n",
       "..                  ...      ...         ...           ...\n",
       "212 2022-03-09 17:55:00     !all  71612452.0  6.332233e+08\n",
       "213 2022-03-09 17:55:00        6  38237044.0  5.335505e+08\n",
       "214 2022-03-09 17:55:00       50  11737600.0  8.406992e+06\n",
       "215 2022-03-09 17:55:00       17  11708783.0  9.106803e+07\n",
       "216 2022-03-09 17:55:00        1   9929025.0  1.977920e+05\n",
       "\n",
       "[217 rows x 4 columns]"
      ]
     },
     "execution_count": 17,
     "metadata": {},
     "output_type": "execute_result"
    }
   ],
   "source": [
    "df_data"
   ]
  },
  {
   "cell_type": "markdown",
   "metadata": {},
   "source": [
    "## HyperLogLog"
   ]
  },
  {
   "cell_type": "code",
   "execution_count": 18,
   "metadata": {},
   "outputs": [
    {
     "name": "stdout",
     "output_type": "stream",
     "text": [
      "                    ts forward opposite\n",
      "0  2022-03-11 10:00:00   h:265    h:293\n",
      "1  2022-03-11 10:05:00   h:265    h:337\n",
      "2  2022-03-11 10:10:00   h:264    h:320\n",
      "3  2022-03-11 10:15:00   h:288    h:346\n",
      "4  2022-03-11 10:20:00   h:308    h:450\n",
      "5  2022-03-11 10:25:00   h:316    h:449\n",
      "6  2022-03-11 10:30:00   h:338    h:434\n",
      "7  2022-03-11 10:35:00   h:335    h:391\n",
      "8  2022-03-11 10:40:00   h:278    h:365\n",
      "9  2022-03-11 10:45:00   h:313    h:380\n",
      "10 2022-03-11 10:50:00   h:281    h:372\n",
      "11 2022-03-11 10:55:00   h:263    h:367\n"
     ]
    }
   ],
   "source": [
    "dts = pd.date_range(start='2022-03-11 10:00:00', end='2022-03-11 11:00:00', freq='5T', inclusive='left')\n",
    "adhoc = await repo.set_adhoc(300, {\n",
    "    'scope': {\n",
    "        'i-field': '@controller.home',\n",
    "        'i-entry': [\n",
    "            [True,'t:0:0:1',0]\n",
    "        ],\n",
    "        'mode': '%directional'\n",
    "    },\n",
    "    'metric': [\n",
    "        ['$distinct', {\n",
    "            'fields':['@flow.addr.dst']\n",
    "        }]\n",
    "    ]\n",
    "})\n",
    "df = await adhoc.read_data(dts, 'hour', columns=['ts','forward','opposite'])\n",
    "print(df)"
   ]
  },
  {
   "cell_type": "code",
   "execution_count": 19,
   "metadata": {},
   "outputs": [
    {
     "data": {
      "text/plain": [
       "forward     h:1558\n",
       "opposite    h:2501\n",
       "dtype: object"
      ]
     },
     "execution_count": 19,
     "metadata": {},
     "output_type": "execute_result"
    }
   ],
   "source": [
    "df2 = df.set_index('ts').sum()\n",
    "df2"
   ]
  },
  {
   "cell_type": "code",
   "execution_count": 20,
   "metadata": {},
   "outputs": [
    {
     "data": {
      "text/plain": [
       "forward     1558\n",
       "opposite    2501\n",
       "dtype: int64"
      ]
     },
     "execution_count": 20,
     "metadata": {},
     "output_type": "execute_result"
    }
   ],
   "source": [
    "df2.apply(HyperLogLog.value)"
   ]
  },
  {
   "cell_type": "code",
   "execution_count": 21,
   "metadata": {},
   "outputs": [],
   "source": [
    "await repo.close()"
   ]
  }
 ],
 "metadata": {
  "interpreter": {
   "hash": "67830111b313300158c98b49e9daa05d822d6ef12192bf31279c1bd2d1fb57f1"
  },
  "kernelspec": {
   "display_name": "Python 3.9.9 ('python3.9')",
   "language": "python",
   "name": "python3"
  },
  "language_info": {
   "codemirror_mode": {
    "name": "ipython",
    "version": 3
   },
   "file_extension": ".py",
   "mimetype": "text/x-python",
   "name": "python",
   "nbconvert_exporter": "python",
   "pygments_lexer": "ipython3",
   "version": "3.9.7"
  },
  "orig_nbformat": 4
 },
 "nbformat": 4,
 "nbformat_minor": 2
}
