{
 "cells": [
  {
   "cell_type": "markdown",
   "metadata": {},
   "source": [
    "# Using Python Client"
   ]
  },
  {
   "cell_type": "code",
   "execution_count": 1,
   "metadata": {},
   "outputs": [],
   "source": [
    "from ga_api import System, Repository, HyperLogLog\n",
    "import pandas as pd\n",
    "import logging\n",
    "logging.basicConfig(\n",
    "    format='▸ %(asctime)s %(levelname)s %(filename)s:%(funcName)s(%(lineno)d) - %(message)s',\n",
    "    datefmt='%Y-%m-%d %H:%M:%S',\n",
    "    level=logging.INFO\n",
    ")"
   ]
  },
  {
   "cell_type": "code",
   "execution_count": 2,
   "metadata": {},
   "outputs": [],
   "source": [
    "repo = Repository('https://rdlab-214.genie-analytics.com/api', 'api', 'default', 'api123!@#', burst=4)"
   ]
  },
  {
   "cell_type": "markdown",
   "metadata": {},
   "source": [
    "## Adhoc Query"
   ]
  },
  {
   "cell_type": "code",
   "execution_count": null,
   "metadata": {},
   "outputs": [],
   "source": [
    "adhoc = await repo.set_adhoc(300, {\n",
    "    'scope': {\n",
    "        'i-field': '@controller.home',\n",
    "        'i-entry': [\n",
    "            [True,'t:0:0:1',0]\n",
    "        ],\n",
    "        'mode': '%directional'\n",
    "    },\n",
    "    'metric': [\n",
    "        ['$sum', {\n",
    "            'field':'@flow.bytes'\n",
    "        }]\n",
    "    ]\n",
    "})"
   ]
  },
  {
   "cell_type": "markdown",
   "metadata": {},
   "source": [
    "### Point Query"
   ]
  },
  {
   "cell_type": "code",
   "execution_count": null,
   "metadata": {},
   "outputs": [],
   "source": [
    "df_point = await adhoc.read_data('2022-03-11 10:00:00', 'hour', columns=['forward','opposite'])\n",
    "print(df_point)"
   ]
  },
  {
   "cell_type": "code",
   "execution_count": null,
   "metadata": {},
   "outputs": [],
   "source": [
    "df_point_0800 = await adhoc.read_data('2022-03-11 10:00:00+0800', 'hour', columns=['forward','opposite'])\n",
    "df_point_0900 = await adhoc.read_data('2022-03-11 11:00:00+0900', 'hour', columns=['forward','opposite'])\n",
    "print(df_point_0800)\n",
    "print(df_point_0900)"
   ]
  },
  {
   "cell_type": "markdown",
   "metadata": {},
   "source": [
    "### Range Query"
   ]
  },
  {
   "cell_type": "code",
   "execution_count": null,
   "metadata": {},
   "outputs": [],
   "source": [
    "dts = pd.date_range(start='2022-03-11 10:00:00', end='2022-03-11 11:00:00', freq='5T', inclusive=)\n",
    "df_range = await adhoc.read_data(dts, 'hour', columns=['ts','forward','opposite'])\n",
    "print(df_range)"
   ]
  },
  {
   "cell_type": "markdown",
   "metadata": {},
   "source": [
    "### Sample Query"
   ]
  },
  {
   "cell_type": "code",
   "execution_count": null,
   "metadata": {},
   "outputs": [],
   "source": [
    "dts = pd.date_range(start='2022-03-11 10:00:00', end='2022-03-17 10:00:00', freq='D')\n",
    "df_range = await adhoc.read_data(dts, 'hour', columns=['ts','forward','opposite'])\n",
    "print(df_range)"
   ]
  },
  {
   "cell_type": "markdown",
   "metadata": {},
   "source": [
    "## Store Query"
   ]
  },
  {
   "cell_type": "code",
   "execution_count": 3,
   "metadata": {},
   "outputs": [
    {
     "name": "stderr",
     "output_type": "stream",
     "text": [
      "▸ 2022-03-21 20:08:45 INFO ga_api_client.py:_authenticate(100) - bringup\n",
      "▸ 2022-03-21 20:08:45 INFO ga_api_client.py:_authenticate(131) - authenticate\n",
      "▸ 2022-03-21 20:08:50 INFO ga_api_client.py:delete_dataset(379) - status=204 dsid=100\n",
      "▸ 2022-03-21 20:08:50 INFO ga_api_client.py:create_dataset(348) - status=200 dsid=100\n",
      "▸ 2022-03-21 20:08:50 INFO ga_api_client.py:get_dataset(357) - status=200 dsid=100\n"
     ]
    }
   ],
   "source": [
    "# delete the dataset\n",
    "await repo.del_dataset(100, missing_ok=True)\n",
    "# create the dataset\n",
    "dset = await repo.get_dataset(100, {\n",
    "    'name':'example',\n",
    "    'series':'hour',\n",
    "    'freq':300,\n",
    "    'retainDepth':86400*7,\n",
    "    'retainSize':10000000,\n",
    "    'run':False\n",
    "})\n",
    "# get the dataset\n",
    "dset = await repo.get_dataset(100, {\n",
    "    'name':'example',\n",
    "    'series':'hour',\n",
    "    'freq':300,\n",
    "    'retainDepth':86400*7,\n",
    "    'retainSize':10000000,\n",
    "    'run':False\n",
    "})"
   ]
  },
  {
   "cell_type": "code",
   "execution_count": 4,
   "metadata": {},
   "outputs": [
    {
     "name": "stderr",
     "output_type": "stream",
     "text": [
      "▸ 2022-03-21 20:08:54 INFO ga_api_client.py:delete_dataset(379) - status=204 dsid=100\n",
      "▸ 2022-03-21 20:08:54 INFO ga_api_client.py:create_dataset(348) - status=200 dsid=100\n",
      "▸ 2022-03-21 20:08:54 INFO ga_api_client.py:update_dataset(368) - status=200 dsid=100\n"
     ]
    }
   ],
   "source": [
    "# delete the dataset\n",
    "await repo.del_dataset(100, missing_ok=True)\n",
    "# create the dataset\n",
    "dset = await repo.set_dataset(100, {\n",
    "    'name':'example',\n",
    "    'series':'hour',\n",
    "    'freq':300,\n",
    "    'retainDepth':86400*7,\n",
    "    'retainSize':10000000,\n",
    "    'run':False\n",
    "})\n",
    "# update the dataset\n",
    "dset = await repo.set_dataset(100, {\n",
    "    'name':'example',\n",
    "    'series':'hour',\n",
    "    'freq':300,\n",
    "    'retainDepth':86400*7,\n",
    "    'retainSize':10000000,\n",
    "    'run':False\n",
    "})"
   ]
  },
  {
   "cell_type": "code",
   "execution_count": 5,
   "metadata": {},
   "outputs": [
    {
     "name": "stderr",
     "output_type": "stream",
     "text": [
      "▸ 2022-03-21 20:08:56 INFO ga_api_client.py:create_pipeline(397) - status=200 dsid=100 plid=1001\n",
      "▸ 2022-03-21 20:08:56 INFO ga_api_client.py:get_pipeline(406) - status=200 dsid=100 plid=1001\n"
     ]
    }
   ],
   "source": [
    "# delete the pipeline\n",
    "await dset.del_pipeline(1001, missing_ok=True)\n",
    "# create the pipeline\n",
    "pipe = await dset.get_pipeline(1001, {\n",
    "    'name':'example',\n",
    "    'pipeline': {\n",
    "        'scope': {\n",
    "            'i-field': '@controller.home',\n",
    "            'i-entry': [\n",
    "                [True,'t:0:0:1',0]\n",
    "            ],\n",
    "            'mode': '%directional'\n",
    "        },\n",
    "        'metric': [\n",
    "            ['$sum', {\n",
    "                'field':'@flow.bytes'\n",
    "            }]\n",
    "        ]\n",
    "    }\n",
    "})\n",
    "# get the pipeline\n",
    "pipe = await dset.get_pipeline(1001, {\n",
    "    'name':'example',\n",
    "    'pipeline': {\n",
    "        'scope': {\n",
    "            'i-field': '@controller.home',\n",
    "            'i-entry': [\n",
    "                [True,'t:0:0:1',0]\n",
    "            ],\n",
    "            'mode': '%directional'\n",
    "        },\n",
    "        'metric': [\n",
    "            ['$sum', {\n",
    "                'field':'@flow.bytes'\n",
    "            }]\n",
    "        ]\n",
    "    }\n",
    "})"
   ]
  },
  {
   "cell_type": "code",
   "execution_count": 6,
   "metadata": {},
   "outputs": [
    {
     "name": "stderr",
     "output_type": "stream",
     "text": [
      "▸ 2022-03-21 20:09:07 INFO ga_api_client.py:delete_pipeline(428) - status=204 dsid=100 plid=1001\n",
      "▸ 2022-03-21 20:09:07 INFO ga_api_client.py:create_pipeline(397) - status=200 dsid=100 plid=1001\n",
      "▸ 2022-03-21 20:09:07 INFO ga_api_client.py:update_pipeline(417) - status=200 dsid=100 plid=1001\n"
     ]
    }
   ],
   "source": [
    "# delete the pipeline\n",
    "await dset.del_pipeline(1001, missing_ok=True)\n",
    "# create the pipeline\n",
    "pipe = await dset.set_pipeline(1001, {\n",
    "    'name':'example',\n",
    "    'pipeline': {\n",
    "        'scope': {\n",
    "            'i-field': '@controller.home',\n",
    "            'i-entry': [\n",
    "                [True,'t:0:0:1',0]\n",
    "            ],\n",
    "            'mode': '%directional'\n",
    "        },\n",
    "        'metric': [\n",
    "            ['$sum', {\n",
    "                'field':'@flow.bytes'\n",
    "            }]\n",
    "        ]\n",
    "    }\n",
    "})\n",
    "# updatge the pipeline\n",
    "pipe = await dset.set_pipeline(1001, {\n",
    "    'name':'example',\n",
    "    'pipeline': {\n",
    "        'scope': {\n",
    "            'i-field': '@controller.home',\n",
    "            'i-entry': [\n",
    "                [True,'t:0:0:1',0]\n",
    "            ],\n",
    "            'mode': '%directional'\n",
    "        },\n",
    "        'metric': [\n",
    "            ['$sum', {\n",
    "                'field':'@flow.bytes'\n",
    "            }]\n",
    "        ]\n",
    "    }\n",
    "})"
   ]
  },
  {
   "cell_type": "code",
   "execution_count": null,
   "metadata": {},
   "outputs": [],
   "source": [
    "dts = pd.date_range(start='2022-03-11 10:00:00', end='2022-03-11 11:00:00', freq='5T', inclusive='left')\n",
    "print(await dset.patch_data(dts))"
   ]
  },
  {
   "cell_type": "code",
   "execution_count": null,
   "metadata": {},
   "outputs": [],
   "source": [
    "df = await pipe.read_data(dts, columns=['ts','forward','opposite'])\n",
    "print(df)"
   ]
  },
  {
   "cell_type": "markdown",
   "metadata": {},
   "source": [
    "## HyperLogLog"
   ]
  },
  {
   "cell_type": "code",
   "execution_count": null,
   "metadata": {},
   "outputs": [],
   "source": [
    "adhoc = await repo.set_adhoc(300, {\n",
    "    'scope': {\n",
    "        'i-field': '@controller.home',\n",
    "        'i-entry': [\n",
    "            [True,'t:0:0:1',0]\n",
    "        ],\n",
    "        'mode': '%directional'\n",
    "    },\n",
    "    'metric': [\n",
    "        ['$distinct', {\n",
    "            'fields':['@flow.addr.dst']\n",
    "        }]\n",
    "    ]\n",
    "})\n",
    "df = await adhoc.read_data(dts, 'hour', columns=['ts','forward','opposite'])\n",
    "print(df)"
   ]
  },
  {
   "cell_type": "code",
   "execution_count": null,
   "metadata": {},
   "outputs": [],
   "source": [
    "df2 = df.set_index('ts').sum()\n",
    "df2"
   ]
  },
  {
   "cell_type": "code",
   "execution_count": null,
   "metadata": {},
   "outputs": [],
   "source": [
    "df2.apply(HyperLogLog.value)"
   ]
  },
  {
   "cell_type": "code",
   "execution_count": null,
   "metadata": {},
   "outputs": [],
   "source": [
    "ts = pd.Timestamp('2022-03-19 10:00:00')\n",
    "ts2 = pd.Timestamp(ts)\n",
    "ts2"
   ]
  }
 ],
 "metadata": {
  "interpreter": {
   "hash": "67830111b313300158c98b49e9daa05d822d6ef12192bf31279c1bd2d1fb57f1"
  },
  "kernelspec": {
   "display_name": "Python 3.9.9 ('python3.9')",
   "language": "python",
   "name": "python3"
  },
  "language_info": {
   "codemirror_mode": {
    "name": "ipython",
    "version": 3
   },
   "file_extension": ".py",
   "mimetype": "text/x-python",
   "name": "python",
   "nbconvert_exporter": "python",
   "pygments_lexer": "ipython3",
   "version": "3.9.7"
  },
  "orig_nbformat": 4
 },
 "nbformat": 4,
 "nbformat_minor": 2
}
