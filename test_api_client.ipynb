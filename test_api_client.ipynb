{
 "cells": [
  {
   "cell_type": "markdown",
   "metadata": {},
   "source": [
    "# Using Python Client"
   ]
  },
  {
   "cell_type": "code",
   "execution_count": 4,
   "metadata": {},
   "outputs": [],
   "source": [
    "from ga_api import System, Repository, HyperLogLog, FieldTable as ftbl, pprint\n",
    "import pandas as pd\n",
    "import logging\n",
    "import asyncio\n",
    "logging.basicConfig(\n",
    "    format='▸ %(asctime)s %(levelname)s %(filename)s:%(funcName)s(%(lineno)d) - %(message)s',\n",
    "    datefmt='%Y-%m-%d %H:%M:%S',\n",
    "    level=logging.INFO\n",
    ")"
   ]
  },
  {
   "cell_type": "code",
   "execution_count": 5,
   "metadata": {},
   "outputs": [],
   "source": [
    "repo = Repository('https://163.13.240.232/api', 'root', 'default', 'genieanlys', ssl=False, burst=4, retry=1)\n",
    "# repo = Repository('https://192.168.11.222/api', 'api', 'default', 'api123!@#', ssl=False, burst=4)"
   ]
  },
  {
   "cell_type": "code",
   "execution_count": 6,
   "metadata": {},
   "outputs": [
    {
     "name": "stderr",
     "output_type": "stream",
     "text": [
      "▸ 2022-06-03 18:21:55 INFO ga_api_client.py:_authenticate(106) - bringup\n",
      "▸ 2022-06-03 18:21:56 INFO ga_api_client.py:_authenticate(149) - authenticate done\n",
      "▸ 2022-06-03 18:21:56 INFO ga_api_client.py:get_all_datasets(355) - status=200 rlt=[{'_id': 1, 'tenant': 0, 'config': {'name': 'performance', 'series': 'full', 'freq': 300, 'retainDepth': 2592000, 'retainSize': 10000000000, 'run': True}, 'status': {'created': '2022-05-27T05:30:55.552Z', 'modified': '2022-06-02T10:40:28.854Z', 'nextTick': '2022-06-03T10:20:00.000Z', 'oldest': '2022-05-23T07:05:00.000Z', 'size': 53593637}}, {'_id': 999, 'tenant': 0, 'config': {'name': 'test1', 'series': 'full', 'freq': 60, 'retainDepth': 360000, 'retainSize': 1000000000, 'run': False}, 'status': {'created': '2022-05-31T07:37:09.606Z', 'modified': '2022-05-31T07:37:09.606Z', 'nextTick': None, 'oldest': '2022-05-31T07:36:00.000Z', 'size': 116}}]\n"
     ]
    },
    {
     "data": {
      "text/html": [
       "<div>\n",
       "<style scoped>\n",
       "    .dataframe tbody tr th:only-of-type {\n",
       "        vertical-align: middle;\n",
       "    }\n",
       "\n",
       "    .dataframe tbody tr th {\n",
       "        vertical-align: top;\n",
       "    }\n",
       "\n",
       "    .dataframe thead th {\n",
       "        text-align: right;\n",
       "    }\n",
       "</style>\n",
       "<table border=\"1\" class=\"dataframe\">\n",
       "  <thead>\n",
       "    <tr style=\"text-align: right;\">\n",
       "      <th></th>\n",
       "      <th>name</th>\n",
       "      <th>series</th>\n",
       "      <th>freq</th>\n",
       "      <th>retainDepth</th>\n",
       "      <th>retainSize</th>\n",
       "      <th>run</th>\n",
       "      <th>created</th>\n",
       "      <th>modified</th>\n",
       "      <th>nextTick</th>\n",
       "      <th>oldest</th>\n",
       "      <th>size</th>\n",
       "    </tr>\n",
       "  </thead>\n",
       "  <tbody>\n",
       "    <tr>\n",
       "      <th>1</th>\n",
       "      <td>performance</td>\n",
       "      <td>full</td>\n",
       "      <td>300</td>\n",
       "      <td>2592000</td>\n",
       "      <td>10000000000</td>\n",
       "      <td>True</td>\n",
       "      <td>2022-05-27T05:30:55.552Z</td>\n",
       "      <td>2022-06-02T10:40:28.854Z</td>\n",
       "      <td>2022-06-03T10:20:00.000Z</td>\n",
       "      <td>2022-05-23T07:05:00.000Z</td>\n",
       "      <td>53593637</td>\n",
       "    </tr>\n",
       "    <tr>\n",
       "      <th>999</th>\n",
       "      <td>test1</td>\n",
       "      <td>full</td>\n",
       "      <td>60</td>\n",
       "      <td>360000</td>\n",
       "      <td>1000000000</td>\n",
       "      <td>False</td>\n",
       "      <td>2022-05-31T07:37:09.606Z</td>\n",
       "      <td>2022-05-31T07:37:09.606Z</td>\n",
       "      <td>None</td>\n",
       "      <td>2022-05-31T07:36:00.000Z</td>\n",
       "      <td>116</td>\n",
       "    </tr>\n",
       "  </tbody>\n",
       "</table>\n",
       "</div>"
      ],
      "text/plain": [
       "            name series  freq  retainDepth   retainSize    run  \\\n",
       "1    performance   full   300      2592000  10000000000   True   \n",
       "999        test1   full    60       360000   1000000000  False   \n",
       "\n",
       "                      created                  modified  \\\n",
       "1    2022-05-27T05:30:55.552Z  2022-06-02T10:40:28.854Z   \n",
       "999  2022-05-31T07:37:09.606Z  2022-05-31T07:37:09.606Z   \n",
       "\n",
       "                     nextTick                    oldest      size  \n",
       "1    2022-06-03T10:20:00.000Z  2022-05-23T07:05:00.000Z  53593637  \n",
       "999                      None  2022-05-31T07:36:00.000Z       116  "
      ]
     },
     "execution_count": 6,
     "metadata": {},
     "output_type": "execute_result"
    }
   ],
   "source": [
    "await repo.show_datasets()"
   ]
  },
  {
   "cell_type": "code",
   "execution_count": 9,
   "metadata": {},
   "outputs": [
    {
     "name": "stderr",
     "output_type": "stream",
     "text": [
      "▸ 2022-06-03 18:22:49 INFO ga_api_client.py:get_dataset(376) - status=200 dsid=1\n"
     ]
    }
   ],
   "source": [
    "dset = await repo.get_dataset(1)"
   ]
  },
  {
   "cell_type": "code",
   "execution_count": 10,
   "metadata": {},
   "outputs": [
    {
     "name": "stderr",
     "output_type": "stream",
     "text": [
      "▸ 2022-06-03 18:23:00 INFO ga_api_client.py:get_all_pipelines(404) - status=200 dsid=1\n"
     ]
    },
    {
     "data": {
      "text/html": [
       "<div>\n",
       "<style scoped>\n",
       "    .dataframe tbody tr th:only-of-type {\n",
       "        vertical-align: middle;\n",
       "    }\n",
       "\n",
       "    .dataframe tbody tr th {\n",
       "        vertical-align: top;\n",
       "    }\n",
       "\n",
       "    .dataframe thead th {\n",
       "        text-align: right;\n",
       "    }\n",
       "</style>\n",
       "<table border=\"1\" class=\"dataframe\">\n",
       "  <thead>\n",
       "    <tr style=\"text-align: right;\">\n",
       "      <th></th>\n",
       "      <th>name</th>\n",
       "      <th>created</th>\n",
       "      <th>modified</th>\n",
       "      <th>oldest</th>\n",
       "      <th>size</th>\n",
       "    </tr>\n",
       "  </thead>\n",
       "  <tbody>\n",
       "    <tr>\n",
       "      <th>100</th>\n",
       "      <td>top_ott</td>\n",
       "      <td>2022-05-30T07:05:32.109Z</td>\n",
       "      <td>2022-06-02T10:40:28.924Z</td>\n",
       "      <td>2022-05-23T07:05:00.000Z</td>\n",
       "      <td>15202359</td>\n",
       "    </tr>\n",
       "    <tr>\n",
       "      <th>101</th>\n",
       "      <td>top_cdn</td>\n",
       "      <td>2022-05-30T07:05:32.142Z</td>\n",
       "      <td>2022-06-02T10:40:29.031Z</td>\n",
       "      <td>2022-05-23T07:05:00.000Z</td>\n",
       "      <td>23541891</td>\n",
       "    </tr>\n",
       "  </tbody>\n",
       "</table>\n",
       "</div>"
      ],
      "text/plain": [
       "        name                   created                  modified  \\\n",
       "100  top_ott  2022-05-30T07:05:32.109Z  2022-06-02T10:40:28.924Z   \n",
       "101  top_cdn  2022-05-30T07:05:32.142Z  2022-06-02T10:40:29.031Z   \n",
       "\n",
       "                       oldest      size  \n",
       "100  2022-05-23T07:05:00.000Z  15202359  \n",
       "101  2022-05-23T07:05:00.000Z  23541891  "
      ]
     },
     "execution_count": 10,
     "metadata": {},
     "output_type": "execute_result"
    }
   ],
   "source": [
    "await dset.show_pipelines()"
   ]
  },
  {
   "cell_type": "code",
   "execution_count": 12,
   "metadata": {},
   "outputs": [
    {
     "name": "stderr",
     "output_type": "stream",
     "text": [
      "▸ 2022-06-03 18:23:16 INFO ga_api_client.py:delete_pipeline(447) - status=204 dsid=1 plid=101\n"
     ]
    }
   ],
   "source": [
    "await dset.del_pipeline(101)"
   ]
  },
  {
   "cell_type": "markdown",
   "metadata": {},
   "source": [
    "## Adhoc Query"
   ]
  },
  {
   "cell_type": "code",
   "execution_count": null,
   "metadata": {},
   "outputs": [],
   "source": [
    "adhoc = await repo.set_adhoc(300, {\n",
    "    'scope': {\n",
    "        'i-field': '@controller.home',\n",
    "        'i-entry': [\n",
    "            [True,'t:0:0:1',0]\n",
    "        ],\n",
    "        'mode': '%directional'\n",
    "    },\n",
    "    'metric': [\n",
    "        ['$sum', {\n",
    "            'field':'@flow.bytes'\n",
    "        }]\n",
    "    ]\n",
    "})"
   ]
  },
  {
   "cell_type": "markdown",
   "metadata": {},
   "source": [
    "### Point Query"
   ]
  },
  {
   "cell_type": "code",
   "execution_count": null,
   "metadata": {},
   "outputs": [],
   "source": [
    "df_point = await adhoc.read_data('2022-03-11 10:00:00', 'hour', columns=['forward','opposite'])\n",
    "print(df_point)"
   ]
  },
  {
   "cell_type": "code",
   "execution_count": null,
   "metadata": {},
   "outputs": [],
   "source": [
    "df_point_0800 = await adhoc.read_data('2022-03-11 10:00:00+0800', 'hour', columns=['forward','opposite'])\n",
    "df_point_0900 = await adhoc.read_data('2022-03-11 11:00:00+0900', 'hour', columns=['forward','opposite'])\n",
    "print(df_point_0800)\n",
    "print(df_point_0900)"
   ]
  },
  {
   "cell_type": "markdown",
   "metadata": {},
   "source": [
    "### Range Query"
   ]
  },
  {
   "cell_type": "code",
   "execution_count": null,
   "metadata": {},
   "outputs": [],
   "source": [
    "dts = pd.date_range(start='2022-03-11 10:00:00', end='2022-03-11 11:00:00', freq='5T', inclusive='left')\n",
    "df_range = await adhoc.read_data(dts, 'hour', columns=['timstamp','forward','opposite'])\n",
    "print(df_range)"
   ]
  },
  {
   "cell_type": "markdown",
   "metadata": {},
   "source": [
    "### Sample Query"
   ]
  },
  {
   "cell_type": "code",
   "execution_count": null,
   "metadata": {},
   "outputs": [],
   "source": [
    "dts = pd.date_range(start='2022-03-11 10:00:00', end='2022-03-27 10:00:00', freq='D')\n",
    "df_range = await adhoc.read_data(dts, 'hour', columns=['timstamp','forward','opposite'])\n",
    "print(df_range)"
   ]
  },
  {
   "cell_type": "markdown",
   "metadata": {},
   "source": [
    "## Store Query"
   ]
  },
  {
   "cell_type": "code",
   "execution_count": null,
   "metadata": {},
   "outputs": [],
   "source": [
    "dset_conf = {\n",
    "    'name':'example',\n",
    "    'series':'hour',\n",
    "    'freq':300,\n",
    "    'retainDepth':86400*7,\n",
    "    'retainSize':10000000,\n",
    "    'run':False\n",
    "}\n",
    "# delete the dataset\n",
    "await repo.del_dataset(100, missing_ok=True)\n",
    "# create the dataset\n",
    "dset = await repo.get_dataset(100, dset_conf)\n",
    "# get the dataset\n",
    "dset = await repo.get_dataset(100, dset_conf)\n",
    "# delete the dataset\n",
    "await repo.del_dataset(100, missing_ok=True)\n",
    "# create the dataset\n",
    "dset = await repo.set_dataset(100, dset_conf)\n",
    "# update the dataset\n",
    "dset = await repo.set_dataset(100, dset_conf)"
   ]
  },
  {
   "cell_type": "code",
   "execution_count": null,
   "metadata": {},
   "outputs": [],
   "source": [
    "pipe_conf = {\n",
    "    'name':'example',\n",
    "    'pipeline': {\n",
    "        'scope': {\n",
    "            'i-field': '@controller.home',\n",
    "            'i-entry': [\n",
    "                [True,'t:0:0:1',0]\n",
    "            ],\n",
    "            'mode': '%directional'\n",
    "        },\n",
    "        'bucket': [\n",
    "            ['$distinctTuple', {\n",
    "                'fields':['@flow.protocol'],\n",
    "                'unwind':[False],\n",
    "                'sizeLimit':256,\n",
    "                'sortedBy':['$sum', {\n",
    "                    'field':'@flow.bytes'\n",
    "                }],\n",
    "                'sortedDir':1,\n",
    "                'nullOpt':False\n",
    "            }]\n",
    "        ],\n",
    "        'metric': [\n",
    "            ['$sum', {\n",
    "                'field':'@flow.bytes'\n",
    "            }]\n",
    "        ]\n",
    "    }\n",
    "}\n",
    "# delete the pipeline\n",
    "await dset.del_pipeline(1001, missing_ok=True)\n",
    "# create the pipeline\n",
    "pipe = await dset.get_pipeline(1001, pipe_conf)\n",
    "# get the pipeline\n",
    "pipe = await dset.get_pipeline(1001, pipe_conf)\n",
    "# delete the pipeline\n",
    "await dset.del_pipeline(1001, missing_ok=True)\n",
    "# create the pipeline\n",
    "pipe = await dset.set_pipeline(1001, pipe_conf)\n",
    "# updatge the pipeline\n",
    "pipe = await dset.set_pipeline(1001, pipe_conf)\n",
    "\n",
    "await asyncio.sleep(1)"
   ]
  },
  {
   "cell_type": "code",
   "execution_count": null,
   "metadata": {},
   "outputs": [],
   "source": [
    "dts = pd.date_range(start='2022-03-04 00:00:00', end='2022-03-10 00:00:00', freq='5T', inclusive='left')\n",
    "# dts = pd.date_range(start='2022-03-09 12:00:00', end='2022-03-09 18:00:00', freq='5T', inclusive='left')\n",
    "# dts = pd.date_range(start='2022-03-04 00:00:00', end='2022-03-18 00:00:00', freq='5T', inclusive='left')"
   ]
  },
  {
   "cell_type": "code",
   "execution_count": null,
   "metadata": {},
   "outputs": [],
   "source": [
    "df_patch = await dset.patch_data(dts)"
   ]
  },
  {
   "cell_type": "code",
   "execution_count": null,
   "metadata": {},
   "outputs": [],
   "source": [
    "df_patch['1001'].value_counts(dropna=False)"
   ]
  },
  {
   "cell_type": "code",
   "execution_count": null,
   "metadata": {},
   "outputs": [],
   "source": [
    "df_poll = await dset.poll_data(dts)"
   ]
  },
  {
   "cell_type": "code",
   "execution_count": null,
   "metadata": {},
   "outputs": [],
   "source": [
    "df_poll['1001'].value_counts(dropna=False)"
   ]
  },
  {
   "cell_type": "code",
   "execution_count": null,
   "metadata": {},
   "outputs": [],
   "source": [
    "df_data = await pipe.read_data(dts, columns=['timestamp','protocol','forward','opposite'])"
   ]
  },
  {
   "cell_type": "code",
   "execution_count": null,
   "metadata": {},
   "outputs": [],
   "source": [
    "df_patch[df_patch['1001'] == 0]"
   ]
  },
  {
   "cell_type": "code",
   "execution_count": null,
   "metadata": {},
   "outputs": [],
   "source": [
    "# should be 30\n",
    "df_data[df_data.isna().any(axis=1)]"
   ]
  },
  {
   "cell_type": "code",
   "execution_count": null,
   "metadata": {},
   "outputs": [],
   "source": [
    "df_data[df_data.protocol=='!all']"
   ]
  },
  {
   "cell_type": "markdown",
   "metadata": {},
   "source": [
    "## HyperLogLog"
   ]
  },
  {
   "cell_type": "code",
   "execution_count": null,
   "metadata": {},
   "outputs": [],
   "source": [
    "dts = pd.date_range(start='2022-03-11 10:00:00', end='2022-03-11 11:00:00', freq='5T', inclusive='left')\n",
    "adhoc = await repo.set_adhoc(300, {\n",
    "    'scope': {\n",
    "        'i-field': '@controller.home',\n",
    "        'i-entry': [\n",
    "            [True,'t:0:0:1',0]\n",
    "        ],\n",
    "        'mode': '%directional'\n",
    "    },\n",
    "    'metric': [\n",
    "        ['$distinct', {\n",
    "            'fields':['@flow.addr.dst']\n",
    "        }]\n",
    "    ]\n",
    "})\n",
    "df = await adhoc.read_data(dts, 'hour', columns=['ts','forward','opposite'])\n",
    "print(df)"
   ]
  },
  {
   "cell_type": "code",
   "execution_count": null,
   "metadata": {},
   "outputs": [],
   "source": [
    "df2 = df.set_index('ts').sum()\n",
    "df2"
   ]
  },
  {
   "cell_type": "code",
   "execution_count": null,
   "metadata": {},
   "outputs": [],
   "source": [
    "df2.apply(HyperLogLog.value)"
   ]
  },
  {
   "cell_type": "code",
   "execution_count": null,
   "metadata": {},
   "outputs": [],
   "source": [
    "await repo.close()"
   ]
  },
  {
   "cell_type": "code",
   "execution_count": null,
   "metadata": {},
   "outputs": [],
   "source": []
  }
 ],
 "metadata": {
  "interpreter": {
   "hash": "489b20c6477e3fab87fc897f1b4f40da1e9746dc613cad823b81524f6f9a417b"
  },
  "kernelspec": {
   "display_name": "Python 3.9.7 ('rosetta')",
   "language": "python",
   "name": "python3"
  },
  "language_info": {
   "codemirror_mode": {
    "name": "ipython",
    "version": 3
   },
   "file_extension": ".py",
   "mimetype": "text/x-python",
   "name": "python",
   "nbconvert_exporter": "python",
   "pygments_lexer": "ipython3",
   "version": "3.9.7"
  },
  "orig_nbformat": 4
 },
 "nbformat": 4,
 "nbformat_minor": 2
}
