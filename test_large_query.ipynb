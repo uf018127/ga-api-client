{
 "cells": [
  {
   "cell_type": "code",
   "execution_count": 1,
   "metadata": {},
   "outputs": [],
   "source": [
    "from src.ga_api_package.ga_api_client import Repository, HyperLogLog\n",
    "import pandas as pd\n",
    "import logging"
   ]
  },
  {
   "cell_type": "code",
   "execution_count": 2,
   "metadata": {},
   "outputs": [],
   "source": [
    "logging.basicConfig(\n",
    "    format='▸ %(asctime)s %(levelname)s %(filename)s:%(funcName)s:%(lineno)d - %(message)s',\n",
    "    datefmt='%Y-%m-%d %H:%M:%S',\n",
    "    level=logging.DEBUG\n",
    ")"
   ]
  },
  {
   "cell_type": "code",
   "execution_count": 3,
   "metadata": {},
   "outputs": [],
   "source": [
    "repo = Repository('https://rdlab-214.genie-analytics.com/api', 'api', 'default', 'api123!@#', burst=1)"
   ]
  },
  {
   "cell_type": "code",
   "execution_count": 4,
   "metadata": {},
   "outputs": [],
   "source": [
    "pipeline = {\n",
    "    'scope': {\n",
    "        'i-field': '@controller.home',\n",
    "        'i-entry': [\n",
    "            [True,'t:0:0:1',0]\n",
    "        ],\n",
    "        'mode': '%directional'\n",
    "    },\n",
    "    'bucket': [\n",
    "        ['$distinctTuple', {\n",
    "            'fields':['@flow.addr.src','@flow.port.src','@flow.addr.dst'],\n",
    "            'unwind':[False,False],\n",
    "            'sizeLimit':1_000_000,\n",
    "            'sortedBy':['$sum', {\n",
    "                'field':'@flow.bytes'\n",
    "            }],\n",
    "            'sortedDir':1,\n",
    "            'nullOpt':False\n",
    "        }]\n",
    "    ],\n",
    "    'metric': [\n",
    "        ['$sum', {\n",
    "            'field':'@flow.bytes'\n",
    "        }]\n",
    "    ]\n",
    "}"
   ]
  },
  {
   "cell_type": "code",
   "execution_count": 5,
   "metadata": {},
   "outputs": [
    {
     "name": "stderr",
     "output_type": "stream",
     "text": [
      "▸ 2022-03-17 18:20:27 INFO ga_api_client.py:_authenticate:132 - bringup\n",
      "▸ 2022-03-17 18:20:27 INFO ga_api_client.py:_authenticate:163 - authenticate\n",
      "▸ 2022-03-17 18:20:32 INFO ga_api_client.py:create_adhoc:350 - status=201 rlt=212233239\n",
      "▸ 2022-03-17 18:20:32 INFO ga_api_client.py:create_adhoc:350 - status=201 rlt=212233239\n",
      "▸ 2022-03-17 18:20:32 ERROR ga_api_client.py:_request:208 - status=500 message={\"error\":\"Assign worker failed - memory full\"}\n"
     ]
    },
    {
     "data": {
      "text/html": [
       "<div>\n",
       "<style scoped>\n",
       "    .dataframe tbody tr th:only-of-type {\n",
       "        vertical-align: middle;\n",
       "    }\n",
       "\n",
       "    .dataframe tbody tr th {\n",
       "        vertical-align: top;\n",
       "    }\n",
       "\n",
       "    .dataframe thead th {\n",
       "        text-align: right;\n",
       "    }\n",
       "</style>\n",
       "<table border=\"1\" class=\"dataframe\">\n",
       "  <thead>\n",
       "    <tr style=\"text-align: right;\">\n",
       "      <th></th>\n",
       "    </tr>\n",
       "  </thead>\n",
       "  <tbody>\n",
       "  </tbody>\n",
       "</table>\n",
       "</div>"
      ],
      "text/plain": [
       "Empty DataFrame\n",
       "Columns: []\n",
       "Index: []"
      ]
     },
     "execution_count": 5,
     "metadata": {},
     "output_type": "execute_result"
    }
   ],
   "source": [
    "freq = 1800\n",
    "delta = pd.Timedelta(f'{freq}S')\n",
    "adhoc = await repo.set_adhoc(freq, pipeline=pipeline)\n",
    "start = pd.Timestamp.now('+08:00').floor(delta) - delta\n",
    "dts = pd.date_range(start=start, periods=1, freq=f'{freq}S')\n",
    "df = await adhoc.read_data(dts, 'full')\n",
    "df"
   ]
  },
  {
   "cell_type": "code",
   "execution_count": 6,
   "metadata": {},
   "outputs": [],
   "source": [
    "await repo.close()"
   ]
  },
  {
   "cell_type": "code",
   "execution_count": null,
   "metadata": {},
   "outputs": [],
   "source": []
  }
 ],
 "metadata": {
  "interpreter": {
   "hash": "67830111b313300158c98b49e9daa05d822d6ef12192bf31279c1bd2d1fb57f1"
  },
  "kernelspec": {
   "display_name": "Python 3.9.9 ('python3.9')",
   "language": "python",
   "name": "python3"
  },
  "language_info": {
   "codemirror_mode": {
    "name": "ipython",
    "version": 3
   },
   "file_extension": ".py",
   "mimetype": "text/x-python",
   "name": "python",
   "nbconvert_exporter": "python",
   "pygments_lexer": "ipython3",
   "version": "3.9.7"
  },
  "orig_nbformat": 4
 },
 "nbformat": 4,
 "nbformat_minor": 2
}
