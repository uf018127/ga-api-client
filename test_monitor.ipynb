{
 "cells": [
  {
   "cell_type": "code",
   "execution_count": 1,
   "metadata": {},
   "outputs": [],
   "source": [
    "from src.ga_api_package.ga_api_client import System, Repository, HyperLogLog, pprint\n",
    "import pandas as pd\n",
    "# connect to API server\n",
    "repo = Repository('https://rdlab-214.genie-analytics.com/api', 'api@default', 'api123!@#')\n",
    "# create adhoc\n",
    "pipeline = {\n",
    "    'scope': {\n",
    "        'i-field': '@controller.home',\n",
    "        'i-entry': [\n",
    "            [True,'t:0:0:1',0]\n",
    "        ],\n",
    "        'mode': '%directional'\n",
    "    },\n",
    "    'metric': [\n",
    "        ['$sum', {\n",
    "            'field':'@flow.bytes'\n",
    "        }]\n",
    "    ]\n",
    "}\n",
    "adhoc = await repo.set_adhoc(300, pipeline)"
   ]
  },
  {
   "cell_type": "code",
   "execution_count": 2,
   "metadata": {},
   "outputs": [
    {
     "name": "stdout",
     "output_type": "stream",
     "text": [
      "                            0         1          2\n",
      "0   2022-03-14 19:55:00+08:00  28756869   66857137\n",
      "1   2022-03-14 20:00:00+08:00  28149256   40341406\n",
      "2   2022-03-14 20:05:00+08:00  26441237   77390001\n",
      "3   2022-03-14 20:10:00+08:00  65411059  134590623\n",
      "4   2022-03-14 20:15:00+08:00  34255394  245273141\n",
      "..                        ...       ...        ...\n",
      "283 2022-03-15 19:30:00+08:00  29972000  276233789\n",
      "284 2022-03-15 19:35:00+08:00  22323271  773709726\n",
      "285 2022-03-15 19:40:00+08:00  18927316  181475285\n",
      "286 2022-03-15 19:45:00+08:00  25739990   46402767\n",
      "287 2022-03-15 19:50:00+08:00  17601331   97514552\n",
      "\n",
      "[288 rows x 3 columns]\n"
     ]
    }
   ],
   "source": [
    "# query recent 24 hour data\n",
    "end = pd.Timestamp.now('+08:00').floor('5T')\n",
    "start = end - pd.Timedelta('24H')\n",
    "df = await adhoc.query_data(start, '24H', 'hour')\n",
    "print(df)"
   ]
  },
  {
   "cell_type": "code",
   "execution_count": 36,
   "metadata": {},
   "outputs": [
    {
     "name": "stdout",
     "output_type": "stream",
     "text": [
      "forward     1.220527e+09\n",
      "opposite    2.682560e+09\n",
      "Name: 0.95, dtype: float64\n"
     ]
    }
   ],
   "source": [
    "df.columns = ['timestamp','forward','opposite']\n",
    "df2 = df.set_index('timestamp')\n",
    "threshold = df2.quantile(0.95)\n",
    "print(threshold)"
   ]
  },
  {
   "cell_type": "code",
   "execution_count": 37,
   "metadata": {},
   "outputs": [
    {
     "name": "stdout",
     "output_type": "stream",
     "text": [
      "                            forward   opposite   f_ratio   o_ratio\n",
      "timestamp                                                         \n",
      "2022-03-14 19:55:00+08:00  28756869   66857137  0.023561  0.024923\n",
      "2022-03-14 20:00:00+08:00  28149256   40341406  0.023063  0.015038\n",
      "2022-03-14 20:05:00+08:00  26441237   77390001  0.021664  0.028849\n",
      "2022-03-14 20:10:00+08:00  65411059  134590623  0.053592  0.050172\n",
      "2022-03-14 20:15:00+08:00  34255394  245273141  0.028066  0.091432\n",
      "...                             ...        ...       ...       ...\n",
      "2022-03-15 19:30:00+08:00  29972000  276233789  0.024557  0.102974\n",
      "2022-03-15 19:35:00+08:00  22323271  773709726  0.018290  0.288422\n",
      "2022-03-15 19:40:00+08:00  18927316  181475285  0.015507  0.067650\n",
      "2022-03-15 19:45:00+08:00  25739990   46402767  0.021089  0.017298\n",
      "2022-03-15 19:50:00+08:00  17601331   97514552  0.014421  0.036351\n",
      "\n",
      "[288 rows x 4 columns]\n"
     ]
    }
   ],
   "source": [
    "df3 = (df2.assign(f_ratio=df2['forward']/threshold['forward'],\n",
    "                  o_ratio=df2['opposite']/threshold['opposite']))\n",
    "print(df3)"
   ]
  },
  {
   "cell_type": "code",
   "execution_count": 40,
   "metadata": {},
   "outputs": [
    {
     "name": "stdout",
     "output_type": "stream",
     "text": [
      "            forward      opposite     f_ratio     o_ratio\n",
      "count  2.880000e+02  2.880000e+02  288.000000  288.000000\n",
      "mean   2.237944e+08  6.525512e+08    0.183359    0.243257\n",
      "std    8.656657e+08  9.062278e+08    0.709256    0.337822\n",
      "min    1.145766e+07  2.934597e+07    0.009387    0.010940\n",
      "25%    2.549672e+07  6.810091e+07    0.020890    0.025387\n",
      "50%    3.289263e+07  2.756288e+08    0.026950    0.102748\n",
      "75%    6.049853e+07  9.018558e+08    0.049568    0.336192\n",
      "max    9.835610e+09  5.089592e+09    8.058492    1.897289\n"
     ]
    }
   ],
   "source": [
    "print(df3.describe())"
   ]
  },
  {
   "cell_type": "code",
   "execution_count": 43,
   "metadata": {},
   "outputs": [
    {
     "name": "stdout",
     "output_type": "stream",
     "text": [
      "                              forward    opposite   f_ratio   o_ratio\n",
      "timestamp                                                            \n",
      "2022-03-15 15:20:00+08:00  5611942115   763194606  4.597965  0.284502\n",
      "2022-03-15 16:15:00+08:00  4263097711   388243404  3.492833  0.144729\n",
      "2022-03-15 16:20:00+08:00  9835609724   708055744  8.058492  0.263948\n",
      "2022-03-15 17:10:00+08:00  3897586423  1149994976  3.193363  0.428693\n",
      "2022-03-15 17:25:00+08:00  4089303217   775994466  3.350440  0.289274\n",
      "2022-03-15 17:30:00+08:00  2683886607   528544784  2.198957  0.197030\n"
     ]
    }
   ],
   "source": [
    "forward_filter = df3['f_ratio'] > 2\n",
    "opposite_filter = df3['o_ratio'] > 2\n",
    "filter = forward_filter | opposite_filter\n",
    "df4 = df3[filter]\n",
    "print(df4)"
   ]
  },
  {
   "cell_type": "code",
   "execution_count": null,
   "metadata": {},
   "outputs": [],
   "source": [
    "if "
   ]
  }
 ],
 "metadata": {
  "interpreter": {
   "hash": "489b20c6477e3fab87fc897f1b4f40da1e9746dc613cad823b81524f6f9a417b"
  },
  "kernelspec": {
   "display_name": "Python 3.9.7 ('rosetta')",
   "language": "python",
   "name": "python3"
  },
  "language_info": {
   "codemirror_mode": {
    "name": "ipython",
    "version": 3
   },
   "file_extension": ".py",
   "mimetype": "text/x-python",
   "name": "python",
   "nbconvert_exporter": "python",
   "pygments_lexer": "ipython3",
   "version": "3.9.7"
  },
  "orig_nbformat": 4
 },
 "nbformat": 4,
 "nbformat_minor": 2
}
