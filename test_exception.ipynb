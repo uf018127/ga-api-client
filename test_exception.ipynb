{
 "cells": [
  {
   "cell_type": "code",
   "execution_count": null,
   "metadata": {},
   "outputs": [],
   "source": [
    "from src.ga_api_package.ga_api_client import Repository, System, Tenant\n",
    "import logging\n",
    "import pandas as pd\n",
    "\n",
    "# logging.basicConfig(level=logging.INFO)"
   ]
  },
  {
   "cell_type": "code",
   "execution_count": null,
   "metadata": {},
   "outputs": [],
   "source": [
    "# create repository object\n",
    "repo = Repository('https://rdlab-214.genie-analytics.com/api', 'api@default', 'api123!@#', ssl=False, burst=1, retry=0)\n",
    "# create dataset\n",
    "dset = await repo.set_dataset(13579, {\n",
    "    'name':'example2',\n",
    "    'series':'hour',\n",
    "    'freq':300,\n",
    "    'retainDepth':86400*7,\n",
    "    'retainSize':10000000,\n",
    "    'run':False\n",
    "})\n",
    "# delete all pipelines\n",
    "await dset.del_all_pipelines()\n",
    "# create pipeline\n",
    "pipeline = {\n",
    "    'scope': {\n",
    "        'i-field': '@controller.home',\n",
    "        'i-entry': [\n",
    "            [True,'t:0:0:1',0]\n",
    "        ],\n",
    "        'mode': '%directional'\n",
    "    },\n",
    "    # 'bucket': [\n",
    "    #     ['$distinctTuple', {\n",
    "    #         'fields':['@flow.protocol'],\n",
    "    #         'unwind':[False],\n",
    "    #         'sizeLimit':256,\n",
    "    #         'sortedBy':['$sum', {\n",
    "    #             'field':'@flow.bytes'\n",
    "    #         }],\n",
    "    #         'sortedDir':1,\n",
    "    #         'nullOpt':False\n",
    "    #     }]\n",
    "    # ],\n",
    "    'metric': [\n",
    "        ['$sum', {\n",
    "            'field':'@flow.bytes'\n",
    "        }]\n",
    "    ]\n",
    "}\n",
    "pipe = await dset.set_pipeline(1001, {\n",
    "    'name':'example',\n",
    "    'pipeline': pipeline\n",
    "})\n",
    "# specify the time range\n",
    "freq = '5T'\n",
    "end = pd.Timestamp.now('+08:00').floor(freq) - pd.Timedelta(freq)\n",
    "start = end - pd.Timedelta('48H')\n",
    "dts = pd.date_range(start=start, end=end, freq=freq)"
   ]
  },
  {
   "cell_type": "code",
   "execution_count": null,
   "metadata": {},
   "outputs": [],
   "source": [
    "# patch dataset data\n",
    "df_patch = await dset.patch_data(dts)\n",
    "df_patch"
   ]
  },
  {
   "cell_type": "code",
   "execution_count": null,
   "metadata": {},
   "outputs": [],
   "source": [
    "df_patch[df_patch.isna().any(axis=1)]"
   ]
  },
  {
   "cell_type": "code",
   "execution_count": null,
   "metadata": {},
   "outputs": [],
   "source": [
    "# poll dataset data\n",
    "df_poll = await dset.poll_data(dts)\n",
    "df_poll"
   ]
  },
  {
   "cell_type": "code",
   "execution_count": null,
   "metadata": {},
   "outputs": [],
   "source": [
    "df_poll[df_poll.isna().any(axis=1)]"
   ]
  },
  {
   "cell_type": "code",
   "execution_count": null,
   "metadata": {},
   "outputs": [],
   "source": [
    "# query pipeline data\n",
    "df_query = await pipe.query_data(dts)\n",
    "df_query"
   ]
  },
  {
   "cell_type": "code",
   "execution_count": null,
   "metadata": {},
   "outputs": [],
   "source": [
    "df_query[df_query.isna().any(axis=1)]"
   ]
  },
  {
   "cell_type": "code",
   "execution_count": null,
   "metadata": {},
   "outputs": [],
   "source": [
    "adhoc = await repo.set_adhoc(300, pipeline)"
   ]
  },
  {
   "cell_type": "code",
   "execution_count": null,
   "metadata": {},
   "outputs": [],
   "source": [
    "df_adhoc = await adhoc.query_data(dts, 'hour')\n",
    "df_adhoc"
   ]
  },
  {
   "cell_type": "code",
   "execution_count": null,
   "metadata": {},
   "outputs": [],
   "source": [
    "df_adhoc[df_adhoc.isna().any(axis=1)]"
   ]
  },
  {
   "cell_type": "code",
   "execution_count": null,
   "metadata": {},
   "outputs": [],
   "source": [
    "await repo.close()"
   ]
  }
 ],
 "metadata": {
  "interpreter": {
   "hash": "489b20c6477e3fab87fc897f1b4f40da1e9746dc613cad823b81524f6f9a417b"
  },
  "kernelspec": {
   "display_name": "Python 3.9.7 ('rosetta')",
   "language": "python",
   "name": "python3"
  },
  "language_info": {
   "codemirror_mode": {
    "name": "ipython",
    "version": 3
   },
   "file_extension": ".py",
   "mimetype": "text/x-python",
   "name": "python",
   "nbconvert_exporter": "python",
   "pygments_lexer": "ipython3",
   "version": "3.9.7"
  },
  "orig_nbformat": 4
 },
 "nbformat": 4,
 "nbformat_minor": 2
}
