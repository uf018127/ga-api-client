{
 "cells": [
  {
   "cell_type": "code",
   "execution_count": null,
   "metadata": {},
   "outputs": [],
   "source": [
    "import pandas as pd\n",
    "import random\n",
    "import itertools\n",
    "from contextlib import contextmanager\n",
    "import time\n",
    "import json\n",
    "import re"
   ]
  },
  {
   "cell_type": "code",
   "execution_count": null,
   "metadata": {},
   "outputs": [],
   "source": [
    "# random_range iterator\n",
    "class random_range:\n",
    "    def __init__(self, start, stop, step):\n",
    "        self.start = start\n",
    "        self.stop = stop\n",
    "        self.step = step\n",
    "\n",
    "    def __iter__(self):\n",
    "        while True:\n",
    "            self.start += random.randint(1, self.step)\n",
    "            if self.start >= self.stop:\n",
    "                break\n",
    "            yield self.start\n",
    "\n",
    "# random bucket iterator - simulate API bucket walker\n",
    "class random_bucket:\n",
    "    def __init__(self, max_sub, max_ott, step):\n",
    "        iter_sub = map(lambda x: '%+88693{:07.0f}'.format(x), random_range(0, max_sub, step))\n",
    "        iter_ott = map(lambda x: '%ott-{:04.0f}.com.tw'.format(x), random_range(0, max_ott, step))\n",
    "        self.iter = itertools.product(iter_sub, iter_ott)\n",
    "\n",
    "    def __iter__(self):\n",
    "        for sub, ott in self.iter:\n",
    "            mtr_f = random.randint(100000000, 999999999)\n",
    "            mtr_o = random.randint(100000000, 999999999)\n",
    "            row = [sub, ott, mtr_f, mtr_o]\n",
    "            yield row"
   ]
  },
  {
   "cell_type": "code",
   "execution_count": null,
   "metadata": {},
   "outputs": [],
   "source": [
    "# 14GB memory\n",
    "data = list(random_bucket(5000000, 1000, 20))\n",
    "len(data)"
   ]
  },
  {
   "cell_type": "code",
   "execution_count": null,
   "metadata": {},
   "outputs": [],
   "source": [
    "text = json.dumps(data).encode()\n",
    "len(text)"
   ]
  },
  {
   "cell_type": "code",
   "execution_count": null,
   "metadata": {},
   "outputs": [],
   "source": [
    "df = pd.DataFrame(data, columns=['user', 'ott', 'forward', 'opposite'])\n",
    "# df = pd.DataFrame(data, columns=['user', 'ott', 'forward', 'opposite'])\n",
    "df.shape"
   ]
  },
  {
   "cell_type": "code",
   "execution_count": null,
   "metadata": {},
   "outputs": [],
   "source": [
    "df.memory_usage(deep=True)"
   ]
  },
  {
   "cell_type": "code",
   "execution_count": null,
   "metadata": {},
   "outputs": [],
   "source": [
    "@contextmanager\n",
    "def mytimer():\n",
    "    t0 = time.time()\n",
    "    try:\n",
    "        yield t0\n",
    "    finally:\n",
    "        t1 = time.time()\n",
    "        print(t1-t0)"
   ]
  },
  {
   "cell_type": "markdown",
   "metadata": {},
   "source": [
    "### Line JSON"
   ]
  },
  {
   "cell_type": "code",
   "execution_count": null,
   "metadata": {},
   "outputs": [],
   "source": [
    "# it took 2m 34.9s, the result is 5.2GB (compressed?)\n",
    "# the memory go up to 17GB in the process\n",
    "columns = ['sub','ott','forward','opposite']\n",
    "with mytimer():\n",
    "    # iter = random_bucket(100, 100, 20) # 10 sub, each with 10 ott\n",
    "    iter = random_bucket(10000000, 1000, 20) # 1,000,000 sub, each with 100 ott\n",
    "    df = pd.DataFrame(iter, columns=columns)\n",
    "print(df.shape)"
   ]
  },
  {
   "cell_type": "code",
   "execution_count": null,
   "metadata": {},
   "outputs": [],
   "source": [
    "df.memory_usage(deep=True)\n",
    "# Index           128\n",
    "# 0        6620168226\n",
    "# 1        6806651838\n",
    "# 2         745934448\n",
    "# 3         745934448"
   ]
  },
  {
   "cell_type": "code",
   "execution_count": null,
   "metadata": {},
   "outputs": [],
   "source": [
    "df2 = df.astype({'sub': 'category', 'ott': 'category'})\n",
    "df2.memory_usage(deep=True)"
   ]
  },
  {
   "cell_type": "code",
   "execution_count": null,
   "metadata": {},
   "outputs": [],
   "source": [
    "df.info()"
   ]
  },
  {
   "cell_type": "code",
   "execution_count": null,
   "metadata": {},
   "outputs": [],
   "source": [
    "df2.info()"
   ]
  },
  {
   "cell_type": "code",
   "execution_count": null,
   "metadata": {},
   "outputs": [],
   "source": [
    "df.dtypes"
   ]
  },
  {
   "cell_type": "markdown",
   "metadata": {},
   "source": [
    "### JSON"
   ]
  },
  {
   "cell_type": "code",
   "execution_count": null,
   "metadata": {},
   "outputs": [],
   "source": [
    "# instantiate random buckets and tranlate them to JSON\n",
    "# it took 3m 35.5s\n",
    "with mytimer():\n",
    "    data = json.dumps(list(random_bucket()))"
   ]
  },
  {
   "cell_type": "code",
   "execution_count": null,
   "metadata": {},
   "outputs": [],
   "source": [
    "# the result is 5.8GB, but the memory go up to 23GB in the process\n",
    "len(data)"
   ]
  },
  {
   "cell_type": "code",
   "execution_count": null,
   "metadata": {},
   "outputs": [],
   "source": [
    "# convert it to frame, ends with 36GB usage\n",
    "# it took 10m 46.5\n",
    "with mytimer():\n",
    "    df = pd.read_json(data, orient='values')"
   ]
  },
  {
   "cell_type": "code",
   "execution_count": null,
   "metadata": {},
   "outputs": [],
   "source": [
    "df.memory_usage(deep=True)\n",
    "# Index           128\n",
    "# 0        6620168226\n",
    "# 1        6806651838\n",
    "# 2         745934448\n",
    "# 3         745934448"
   ]
  },
  {
   "cell_type": "code",
   "execution_count": null,
   "metadata": {},
   "outputs": [],
   "source": [
    "df.head()"
   ]
  },
  {
   "cell_type": "code",
   "execution_count": null,
   "metadata": {},
   "outputs": [],
   "source": [
    "df.shape\n",
    "# (93241806, 4)"
   ]
  },
  {
   "cell_type": "code",
   "execution_count": null,
   "metadata": {},
   "outputs": [],
   "source": []
  }
 ],
 "metadata": {
  "interpreter": {
   "hash": "489b20c6477e3fab87fc897f1b4f40da1e9746dc613cad823b81524f6f9a417b"
  },
  "kernelspec": {
   "display_name": "Python 3.9.7 ('rosetta')",
   "language": "python",
   "name": "python3"
  },
  "language_info": {
   "codemirror_mode": {
    "name": "ipython",
    "version": 3
   },
   "file_extension": ".py",
   "mimetype": "text/x-python",
   "name": "python",
   "nbconvert_exporter": "python",
   "pygments_lexer": "ipython3",
   "version": "3.9.7"
  },
  "orig_nbformat": 4
 },
 "nbformat": 4,
 "nbformat_minor": 2
}
