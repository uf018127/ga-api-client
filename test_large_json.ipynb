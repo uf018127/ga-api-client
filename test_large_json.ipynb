{
 "cells": [
  {
   "cell_type": "code",
   "execution_count": 1,
   "metadata": {},
   "outputs": [],
   "source": [
    "import pandas as pd\n",
    "import random\n",
    "from contextlib import contextmanager\n",
    "import time\n",
    "import json\n",
    "import re"
   ]
  },
  {
   "cell_type": "code",
   "execution_count": 20,
   "metadata": {},
   "outputs": [],
   "source": [
    "# random_step iterator\n",
    "class random_step:\n",
    "    def __init__(self, size, step):\n",
    "        self.size = size\n",
    "        self.step = step\n",
    "\n",
    "    def __iter__(self):\n",
    "        idx = 0\n",
    "        cnt = 0\n",
    "        while cnt < self.size:\n",
    "            idx += random.randint(1, self.step)\n",
    "            cnt += 1\n",
    "            yield idx\n",
    "\n",
    "# random bucket iterator - simulate API bucket walker\n",
    "class random_bucket:\n",
    "    def __init__(self, nsub, nott, step):\n",
    "        self.nsub = nsub\n",
    "        self.nott = nott\n",
    "        self.step = step\n",
    "\n",
    "    def __iter__(self):\n",
    "        iter_sub = map(lambda x: '%+88693{:07.0f}'.format(x), random_step(self.nsub, self.step))\n",
    "        for sub in iter_sub:\n",
    "            iter_ott = map(lambda x: '%ott-{:04.0f}.com.tw'.format(x), random_step(self.nott, self.step))\n",
    "            for ott in iter_ott:\n",
    "                mtr_f = random.randint(100000000, 999999999)\n",
    "                mtr_o = random.randint(100000000, 999999999)\n",
    "                row = [sub, ott, mtr_f, mtr_o]\n",
    "                yield row"
   ]
  },
  {
   "cell_type": "code",
   "execution_count": 22,
   "metadata": {},
   "outputs": [
    {
     "data": {
      "text/plain": [
       "[['%+886930000004', '%ott-0005.com.tw', 412941572, 668304142],\n",
       " ['%+886930000004', '%ott-0009.com.tw', 387444304, 793767575],\n",
       " ['%+886930000004', '%ott-0013.com.tw', 323989728, 807475506],\n",
       " ['%+886930000004', '%ott-0015.com.tw', 297546486, 680729174],\n",
       " ['%+886930000006', '%ott-0003.com.tw', 578292103, 723723210],\n",
       " ['%+886930000006', '%ott-0007.com.tw', 110997896, 854545933],\n",
       " ['%+886930000006', '%ott-0008.com.tw', 699525597, 205737696],\n",
       " ['%+886930000006', '%ott-0013.com.tw', 641986948, 373141876],\n",
       " ['%+886930000008', '%ott-0004.com.tw', 326832810, 789878284],\n",
       " ['%+886930000008', '%ott-0008.com.tw', 230464311, 553839994],\n",
       " ['%+886930000008', '%ott-0010.com.tw', 402647507, 320826626],\n",
       " ['%+886930000008', '%ott-0015.com.tw', 130178497, 863519153]]"
      ]
     },
     "execution_count": 22,
     "metadata": {},
     "output_type": "execute_result"
    }
   ],
   "source": [
    "# the generated ott is not randomized\n",
    "data = list(random_bucket(3, 4, 5))\n",
    "data"
   ]
  },
  {
   "cell_type": "code",
   "execution_count": null,
   "metadata": {},
   "outputs": [],
   "source": [
    "text = json.dumps(data).encode()\n",
    "len(text)"
   ]
  },
  {
   "cell_type": "code",
   "execution_count": null,
   "metadata": {},
   "outputs": [],
   "source": [
    "df = pd.DataFrame(data, columns=['user', 'ott', 'forward', 'opposite'])\n",
    "# df = pd.DataFrame(data, columns=['user', 'ott', 'forward', 'opposite'])\n",
    "df.shape"
   ]
  },
  {
   "cell_type": "code",
   "execution_count": null,
   "metadata": {},
   "outputs": [],
   "source": [
    "df.memory_usage(deep=True)"
   ]
  },
  {
   "cell_type": "code",
   "execution_count": null,
   "metadata": {},
   "outputs": [],
   "source": [
    "@contextmanager\n",
    "def mytimer():\n",
    "    t0 = time.time()\n",
    "    try:\n",
    "        yield t0\n",
    "    finally:\n",
    "        t1 = time.time()\n",
    "        print(t1-t0)"
   ]
  },
  {
   "cell_type": "markdown",
   "metadata": {},
   "source": [
    "### Line JSON"
   ]
  },
  {
   "cell_type": "code",
   "execution_count": null,
   "metadata": {},
   "outputs": [],
   "source": [
    "# it took 2m 34.9s, the result is 5.2GB (compressed?)\n",
    "# the memory go up to 17GB in the process\n",
    "columns = ['sub','ott','forward','opposite']\n",
    "with mytimer():\n",
    "    # iter = random_bucket(100, 100, 20) # 10 sub, each with 10 ott\n",
    "    iter = random_bucket(10000000, 1000, 20) # 1,000,000 sub, each with 100 ott\n",
    "    df = pd.DataFrame(iter, columns=columns)\n",
    "print(df.shape)"
   ]
  },
  {
   "cell_type": "code",
   "execution_count": null,
   "metadata": {},
   "outputs": [],
   "source": [
    "df.memory_usage(deep=True)\n",
    "# Index           128\n",
    "# 0        6620168226\n",
    "# 1        6806651838\n",
    "# 2         745934448\n",
    "# 3         745934448"
   ]
  },
  {
   "cell_type": "code",
   "execution_count": null,
   "metadata": {},
   "outputs": [],
   "source": [
    "df2 = df.astype({'sub': 'category', 'ott': 'category'})\n",
    "df2.memory_usage(deep=True)"
   ]
  },
  {
   "cell_type": "code",
   "execution_count": null,
   "metadata": {},
   "outputs": [],
   "source": [
    "df.info()"
   ]
  },
  {
   "cell_type": "code",
   "execution_count": null,
   "metadata": {},
   "outputs": [],
   "source": [
    "df2.info()"
   ]
  },
  {
   "cell_type": "code",
   "execution_count": null,
   "metadata": {},
   "outputs": [],
   "source": [
    "df.dtypes"
   ]
  },
  {
   "cell_type": "markdown",
   "metadata": {},
   "source": [
    "### JSON"
   ]
  },
  {
   "cell_type": "code",
   "execution_count": null,
   "metadata": {},
   "outputs": [],
   "source": [
    "# instantiate random buckets and tranlate them to JSON\n",
    "# it took 3m 35.5s\n",
    "with mytimer():\n",
    "    data = json.dumps(list(random_bucket()))"
   ]
  },
  {
   "cell_type": "code",
   "execution_count": null,
   "metadata": {},
   "outputs": [],
   "source": [
    "# the result is 5.8GB, but the memory go up to 23GB in the process\n",
    "len(data)"
   ]
  },
  {
   "cell_type": "code",
   "execution_count": null,
   "metadata": {},
   "outputs": [],
   "source": [
    "# convert it to frame, ends with 36GB usage\n",
    "# it took 10m 46.5\n",
    "with mytimer():\n",
    "    df = pd.read_json(data, orient='values')"
   ]
  },
  {
   "cell_type": "code",
   "execution_count": null,
   "metadata": {},
   "outputs": [],
   "source": [
    "df.memory_usage(deep=True)\n",
    "# Index           128\n",
    "# 0        6620168226\n",
    "# 1        6806651838\n",
    "# 2         745934448\n",
    "# 3         745934448"
   ]
  },
  {
   "cell_type": "code",
   "execution_count": null,
   "metadata": {},
   "outputs": [],
   "source": [
    "df.head()"
   ]
  },
  {
   "cell_type": "code",
   "execution_count": null,
   "metadata": {},
   "outputs": [],
   "source": [
    "df.shape\n",
    "# (93241806, 4)"
   ]
  },
  {
   "cell_type": "code",
   "execution_count": null,
   "metadata": {},
   "outputs": [],
   "source": []
  }
 ],
 "metadata": {
  "interpreter": {
   "hash": "489b20c6477e3fab87fc897f1b4f40da1e9746dc613cad823b81524f6f9a417b"
  },
  "kernelspec": {
   "display_name": "Python 3.9.7 ('rosetta')",
   "language": "python",
   "name": "python3"
  },
  "language_info": {
   "codemirror_mode": {
    "name": "ipython",
    "version": 3
   },
   "file_extension": ".py",
   "mimetype": "text/x-python",
   "name": "python",
   "nbconvert_exporter": "python",
   "pygments_lexer": "ipython3",
   "version": "3.9.7"
  },
  "orig_nbformat": 4
 },
 "nbformat": 4,
 "nbformat_minor": 2
}
